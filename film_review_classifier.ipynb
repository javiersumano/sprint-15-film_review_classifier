{
 "cells": [
  {
   "cell_type": "markdown",
   "metadata": {},
   "source": [
    "# Detección Automática de Críticas Negativas en IMDB"
   ]
  },
  {
   "cell_type": "markdown",
   "metadata": {},
   "source": [
    "# Descripcipción del proyecto"
   ]
  },
  {
   "cell_type": "markdown",
   "metadata": {},
   "source": [
    "Film Junky Union, una nueva comunidad vanguardista para los aficionados de las películas clásicas, está desarrollando un sistema para filtrar y categorizar reseñas de películas. Tu objetivo es entrenar un modelo para detectar las críticas negativas de forma automática. Para lograrlo, utilizarás un conjunto de datos de reseñas de películas de IMDB con leyendas de polaridad para construir un modelo para clasificar las reseñas positivas y negativas. Este deberá alcanzar un valor F1 de al menos 0.85."
   ]
  },
  {
   "cell_type": "markdown",
   "metadata": {},
   "source": [
    "**Instrucciones del proyecto:** \n",
    "1. Carga los datos.\n",
    "2. Preprocesa los datos, si es necesario.\n",
    "3. Realiza un análisis exploratorio de datos y haz tu conclusión sobre el desequilibrio de clases.\n",
    "4. Realiza el preprocesamiento de datos para el modelado.\n",
    "5. Entrena al menos tres modelos diferentes para el conjunto de datos de entrenamiento.\n",
    "6. Prueba los modelos para el conjunto de datos de prueba.\n",
    "7. Escribe algunas reseñas y clasifícalas con todos los modelos.\n",
    "8. Busca las diferencias entre los resultados de las pruebas de los modelos en los dos puntos anteriores. Intenta explicarlas.\n",
    "9. Muestra tus hallazgos\n",
    "\n",
    "**DESCRIPCIÓN DEL ARCHIVO** \n",
    "\n",
    "El archivo a analizar para este proyecto se almacena en `imdb_reviews.tsv`. En el cual los datos fueron proporcionados por Andrew L. Maas, Raymond E. Daly, Peter T. Pham, Dan Huang, Andrew Y. Ng, y Christopher Potts. (2011). Learning Word Vectors for Sentiment Analysis. La Reunión Anual 49 de la Asociación de Lingüística Computacional (ACL 2011).\n",
    "\n",
    "Los campos seleccionados para este analisis son los siguientes:\n",
    "\n",
    "* `review`: Es el texto de la reseña\n",
    "* `pos`: Es el objetivo. En el cual  '0' para negativo y '1' para positivo\n",
    "* `ds_part`: 'entrenamiento'/'prueba' para la parte de entrenamiento/prueba del conjunto de datos, respectivamente"
   ]
  },
  {
   "cell_type": "markdown",
   "metadata": {},
   "source": [
    "## Inicialización"
   ]
  },
  {
   "cell_type": "code",
   "execution_count": 1,
   "metadata": {},
   "outputs": [],
   "source": [
    "import math\n",
    "\n",
    "import numpy as np\n",
    "import pandas as pd\n",
    "\n",
    "import matplotlib\n",
    "import matplotlib.pyplot as plt\n",
    "import matplotlib.dates as mdates\n",
    "import seaborn as sns\n",
    "\n",
    "from tqdm.auto import tqdm\n",
    "\n",
    "\n",
    "import re"
   ]
  },
  {
   "cell_type": "code",
   "execution_count": 2,
   "metadata": {},
   "outputs": [],
   "source": [
    "%matplotlib inline\n",
    "%config InlineBackend.figure_format = 'png'\n",
    "# la siguiente línea proporciona gráficos de mejor calidad en pantallas HiDPI\n",
    "# %config InlineBackend.figure_format = 'retina'\n",
    "\n",
    "plt.style.use('seaborn')"
   ]
  },
  {
   "cell_type": "code",
   "execution_count": 3,
   "metadata": {},
   "outputs": [],
   "source": [
    "# esto es para usar progress_apply, puedes leer más en https://pypi.org/project/tqdm/#pandas-integration\n",
    "tqdm.pandas()"
   ]
  },
  {
   "cell_type": "markdown",
   "metadata": {},
   "source": [
    "## Cargar datos"
   ]
  },
  {
   "cell_type": "code",
   "execution_count": 4,
   "metadata": {},
   "outputs": [
    {
     "name": "stdout",
     "output_type": "stream",
     "text": [
      "\n",
      " Datos cargados correctamente. Con la siguiente dimensión:(47331, 17)\n"
     ]
    }
   ],
   "source": [
    "df_reviews = pd.read_csv('/datasets/imdb_reviews.tsv', sep='\\t', dtype={'votes': 'Int64'})\n",
    "\n",
    "print(f'\\n Datos cargados correctamente. Con la siguiente dimensión:{df_reviews.shape}')"
   ]
  },
  {
   "cell_type": "code",
   "execution_count": 5,
   "metadata": {},
   "outputs": [
    {
     "name": "stdout",
     "output_type": "stream",
     "text": [
      "\n",
      "Información general del DataFrame\n",
      "<class 'pandas.core.frame.DataFrame'>\n",
      "RangeIndex: 47331 entries, 0 to 47330\n",
      "Data columns (total 17 columns):\n",
      " #   Column           Non-Null Count  Dtype  \n",
      "---  ------           --------------  -----  \n",
      " 0   tconst           47331 non-null  object \n",
      " 1   title_type       47331 non-null  object \n",
      " 2   primary_title    47331 non-null  object \n",
      " 3   original_title   47331 non-null  object \n",
      " 4   start_year       47331 non-null  int64  \n",
      " 5   end_year         47331 non-null  object \n",
      " 6   runtime_minutes  47331 non-null  object \n",
      " 7   is_adult         47331 non-null  int64  \n",
      " 8   genres           47331 non-null  object \n",
      " 9   average_rating   47329 non-null  float64\n",
      " 10  votes            47329 non-null  Int64  \n",
      " 11  review           47331 non-null  object \n",
      " 12  rating           47331 non-null  int64  \n",
      " 13  sp               47331 non-null  object \n",
      " 14  pos              47331 non-null  int64  \n",
      " 15  ds_part          47331 non-null  object \n",
      " 16  idx              47331 non-null  int64  \n",
      "dtypes: Int64(1), float64(1), int64(5), object(10)\n",
      "memory usage: 6.2+ MB\n",
      "\n",
      " Estadísitica descriptiva\n"
     ]
    },
    {
     "data": {
      "text/html": [
       "<div>\n",
       "<style scoped>\n",
       "    .dataframe tbody tr th:only-of-type {\n",
       "        vertical-align: middle;\n",
       "    }\n",
       "\n",
       "    .dataframe tbody tr th {\n",
       "        vertical-align: top;\n",
       "    }\n",
       "\n",
       "    .dataframe thead th {\n",
       "        text-align: right;\n",
       "    }\n",
       "</style>\n",
       "<table border=\"1\" class=\"dataframe\">\n",
       "  <thead>\n",
       "    <tr style=\"text-align: right;\">\n",
       "      <th></th>\n",
       "      <th>start_year</th>\n",
       "      <th>is_adult</th>\n",
       "      <th>average_rating</th>\n",
       "      <th>votes</th>\n",
       "      <th>rating</th>\n",
       "      <th>pos</th>\n",
       "      <th>idx</th>\n",
       "    </tr>\n",
       "  </thead>\n",
       "  <tbody>\n",
       "    <tr>\n",
       "      <th>count</th>\n",
       "      <td>47331.000000</td>\n",
       "      <td>47331.000000</td>\n",
       "      <td>47329.000000</td>\n",
       "      <td>4.732900e+04</td>\n",
       "      <td>47331.000000</td>\n",
       "      <td>47331.000000</td>\n",
       "      <td>47331.000000</td>\n",
       "    </tr>\n",
       "    <tr>\n",
       "      <th>mean</th>\n",
       "      <td>1989.631235</td>\n",
       "      <td>0.001732</td>\n",
       "      <td>5.998278</td>\n",
       "      <td>2.556292e+04</td>\n",
       "      <td>5.484608</td>\n",
       "      <td>0.498954</td>\n",
       "      <td>6279.697999</td>\n",
       "    </tr>\n",
       "    <tr>\n",
       "      <th>std</th>\n",
       "      <td>19.600364</td>\n",
       "      <td>0.041587</td>\n",
       "      <td>1.494289</td>\n",
       "      <td>8.367004e+04</td>\n",
       "      <td>3.473109</td>\n",
       "      <td>0.500004</td>\n",
       "      <td>3605.702545</td>\n",
       "    </tr>\n",
       "    <tr>\n",
       "      <th>min</th>\n",
       "      <td>1894.000000</td>\n",
       "      <td>0.000000</td>\n",
       "      <td>1.400000</td>\n",
       "      <td>9.000000e+00</td>\n",
       "      <td>1.000000</td>\n",
       "      <td>0.000000</td>\n",
       "      <td>0.000000</td>\n",
       "    </tr>\n",
       "    <tr>\n",
       "      <th>25%</th>\n",
       "      <td>1982.000000</td>\n",
       "      <td>0.000000</td>\n",
       "      <td>5.100000</td>\n",
       "      <td>8.270000e+02</td>\n",
       "      <td>2.000000</td>\n",
       "      <td>0.000000</td>\n",
       "      <td>3162.000000</td>\n",
       "    </tr>\n",
       "    <tr>\n",
       "      <th>50%</th>\n",
       "      <td>1998.000000</td>\n",
       "      <td>0.000000</td>\n",
       "      <td>6.300000</td>\n",
       "      <td>3.197000e+03</td>\n",
       "      <td>4.000000</td>\n",
       "      <td>0.000000</td>\n",
       "      <td>6299.000000</td>\n",
       "    </tr>\n",
       "    <tr>\n",
       "      <th>75%</th>\n",
       "      <td>2004.000000</td>\n",
       "      <td>0.000000</td>\n",
       "      <td>7.100000</td>\n",
       "      <td>1.397400e+04</td>\n",
       "      <td>9.000000</td>\n",
       "      <td>1.000000</td>\n",
       "      <td>9412.000000</td>\n",
       "    </tr>\n",
       "    <tr>\n",
       "      <th>max</th>\n",
       "      <td>2010.000000</td>\n",
       "      <td>1.000000</td>\n",
       "      <td>9.700000</td>\n",
       "      <td>1.739448e+06</td>\n",
       "      <td>10.000000</td>\n",
       "      <td>1.000000</td>\n",
       "      <td>12499.000000</td>\n",
       "    </tr>\n",
       "  </tbody>\n",
       "</table>\n",
       "</div>"
      ],
      "text/plain": [
       "         start_year      is_adult  average_rating         votes        rating  \\\n",
       "count  47331.000000  47331.000000    47329.000000  4.732900e+04  47331.000000   \n",
       "mean    1989.631235      0.001732        5.998278  2.556292e+04      5.484608   \n",
       "std       19.600364      0.041587        1.494289  8.367004e+04      3.473109   \n",
       "min     1894.000000      0.000000        1.400000  9.000000e+00      1.000000   \n",
       "25%     1982.000000      0.000000        5.100000  8.270000e+02      2.000000   \n",
       "50%     1998.000000      0.000000        6.300000  3.197000e+03      4.000000   \n",
       "75%     2004.000000      0.000000        7.100000  1.397400e+04      9.000000   \n",
       "max     2010.000000      1.000000        9.700000  1.739448e+06     10.000000   \n",
       "\n",
       "                pos           idx  \n",
       "count  47331.000000  47331.000000  \n",
       "mean       0.498954   6279.697999  \n",
       "std        0.500004   3605.702545  \n",
       "min        0.000000      0.000000  \n",
       "25%        0.000000   3162.000000  \n",
       "50%        0.000000   6299.000000  \n",
       "75%        1.000000   9412.000000  \n",
       "max        1.000000  12499.000000  "
      ]
     },
     "execution_count": 5,
     "metadata": {},
     "output_type": "execute_result"
    }
   ],
   "source": [
    "print(\"\\nInformación general del DataFrame\")\n",
    "df_reviews.info()\n",
    "print(\"\\n Estadísitica descriptiva\")\n",
    "df_reviews.describe()"
   ]
  },
  {
   "cell_type": "code",
   "execution_count": 6,
   "metadata": {},
   "outputs": [
    {
     "data": {
      "text/html": [
       "<div>\n",
       "<style scoped>\n",
       "    .dataframe tbody tr th:only-of-type {\n",
       "        vertical-align: middle;\n",
       "    }\n",
       "\n",
       "    .dataframe tbody tr th {\n",
       "        vertical-align: top;\n",
       "    }\n",
       "\n",
       "    .dataframe thead th {\n",
       "        text-align: right;\n",
       "    }\n",
       "</style>\n",
       "<table border=\"1\" class=\"dataframe\">\n",
       "  <thead>\n",
       "    <tr style=\"text-align: right;\">\n",
       "      <th></th>\n",
       "      <th>tconst</th>\n",
       "      <th>title_type</th>\n",
       "      <th>primary_title</th>\n",
       "      <th>original_title</th>\n",
       "      <th>start_year</th>\n",
       "      <th>end_year</th>\n",
       "      <th>runtime_minutes</th>\n",
       "      <th>is_adult</th>\n",
       "      <th>genres</th>\n",
       "      <th>average_rating</th>\n",
       "      <th>votes</th>\n",
       "      <th>review</th>\n",
       "      <th>rating</th>\n",
       "      <th>sp</th>\n",
       "      <th>pos</th>\n",
       "      <th>ds_part</th>\n",
       "      <th>idx</th>\n",
       "    </tr>\n",
       "  </thead>\n",
       "  <tbody>\n",
       "    <tr>\n",
       "      <th>0</th>\n",
       "      <td>tt0068152</td>\n",
       "      <td>movie</td>\n",
       "      <td>$</td>\n",
       "      <td>$</td>\n",
       "      <td>1971</td>\n",
       "      <td>\\N</td>\n",
       "      <td>121</td>\n",
       "      <td>0</td>\n",
       "      <td>Comedy,Crime,Drama</td>\n",
       "      <td>6.3</td>\n",
       "      <td>2218</td>\n",
       "      <td>The pakage implies that Warren Beatty and Gold...</td>\n",
       "      <td>1</td>\n",
       "      <td>neg</td>\n",
       "      <td>0</td>\n",
       "      <td>train</td>\n",
       "      <td>8335</td>\n",
       "    </tr>\n",
       "    <tr>\n",
       "      <th>1</th>\n",
       "      <td>tt0068152</td>\n",
       "      <td>movie</td>\n",
       "      <td>$</td>\n",
       "      <td>$</td>\n",
       "      <td>1971</td>\n",
       "      <td>\\N</td>\n",
       "      <td>121</td>\n",
       "      <td>0</td>\n",
       "      <td>Comedy,Crime,Drama</td>\n",
       "      <td>6.3</td>\n",
       "      <td>2218</td>\n",
       "      <td>How the hell did they get this made?! Presenti...</td>\n",
       "      <td>1</td>\n",
       "      <td>neg</td>\n",
       "      <td>0</td>\n",
       "      <td>train</td>\n",
       "      <td>8336</td>\n",
       "    </tr>\n",
       "    <tr>\n",
       "      <th>2</th>\n",
       "      <td>tt0313150</td>\n",
       "      <td>short</td>\n",
       "      <td>'15'</td>\n",
       "      <td>'15'</td>\n",
       "      <td>2002</td>\n",
       "      <td>\\N</td>\n",
       "      <td>25</td>\n",
       "      <td>0</td>\n",
       "      <td>Comedy,Drama,Short</td>\n",
       "      <td>6.3</td>\n",
       "      <td>184</td>\n",
       "      <td>There is no real story the film seems more lik...</td>\n",
       "      <td>3</td>\n",
       "      <td>neg</td>\n",
       "      <td>0</td>\n",
       "      <td>test</td>\n",
       "      <td>2489</td>\n",
       "    </tr>\n",
       "    <tr>\n",
       "      <th>3</th>\n",
       "      <td>tt0313150</td>\n",
       "      <td>short</td>\n",
       "      <td>'15'</td>\n",
       "      <td>'15'</td>\n",
       "      <td>2002</td>\n",
       "      <td>\\N</td>\n",
       "      <td>25</td>\n",
       "      <td>0</td>\n",
       "      <td>Comedy,Drama,Short</td>\n",
       "      <td>6.3</td>\n",
       "      <td>184</td>\n",
       "      <td>Um .... a serious film about troubled teens in...</td>\n",
       "      <td>7</td>\n",
       "      <td>pos</td>\n",
       "      <td>1</td>\n",
       "      <td>test</td>\n",
       "      <td>9280</td>\n",
       "    </tr>\n",
       "    <tr>\n",
       "      <th>4</th>\n",
       "      <td>tt0313150</td>\n",
       "      <td>short</td>\n",
       "      <td>'15'</td>\n",
       "      <td>'15'</td>\n",
       "      <td>2002</td>\n",
       "      <td>\\N</td>\n",
       "      <td>25</td>\n",
       "      <td>0</td>\n",
       "      <td>Comedy,Drama,Short</td>\n",
       "      <td>6.3</td>\n",
       "      <td>184</td>\n",
       "      <td>I'm totally agree with GarryJohal from Singapo...</td>\n",
       "      <td>9</td>\n",
       "      <td>pos</td>\n",
       "      <td>1</td>\n",
       "      <td>test</td>\n",
       "      <td>9281</td>\n",
       "    </tr>\n",
       "    <tr>\n",
       "      <th>5</th>\n",
       "      <td>tt0313150</td>\n",
       "      <td>short</td>\n",
       "      <td>'15'</td>\n",
       "      <td>'15'</td>\n",
       "      <td>2002</td>\n",
       "      <td>\\N</td>\n",
       "      <td>25</td>\n",
       "      <td>0</td>\n",
       "      <td>Comedy,Drama,Short</td>\n",
       "      <td>6.3</td>\n",
       "      <td>184</td>\n",
       "      <td>This is the first movie I've seen from Singapo...</td>\n",
       "      <td>9</td>\n",
       "      <td>pos</td>\n",
       "      <td>1</td>\n",
       "      <td>test</td>\n",
       "      <td>9282</td>\n",
       "    </tr>\n",
       "    <tr>\n",
       "      <th>6</th>\n",
       "      <td>tt0313150</td>\n",
       "      <td>short</td>\n",
       "      <td>'15'</td>\n",
       "      <td>'15'</td>\n",
       "      <td>2002</td>\n",
       "      <td>\\N</td>\n",
       "      <td>25</td>\n",
       "      <td>0</td>\n",
       "      <td>Comedy,Drama,Short</td>\n",
       "      <td>6.3</td>\n",
       "      <td>184</td>\n",
       "      <td>Yes non-Singaporean's can't see what's the big...</td>\n",
       "      <td>9</td>\n",
       "      <td>pos</td>\n",
       "      <td>1</td>\n",
       "      <td>test</td>\n",
       "      <td>9283</td>\n",
       "    </tr>\n",
       "    <tr>\n",
       "      <th>7</th>\n",
       "      <td>tt0035958</td>\n",
       "      <td>movie</td>\n",
       "      <td>'Gung Ho!': The Story of Carlson's Makin Islan...</td>\n",
       "      <td>'Gung Ho!': The Story of Carlson's Makin Islan...</td>\n",
       "      <td>1943</td>\n",
       "      <td>\\N</td>\n",
       "      <td>88</td>\n",
       "      <td>0</td>\n",
       "      <td>Drama,History,War</td>\n",
       "      <td>6.1</td>\n",
       "      <td>1240</td>\n",
       "      <td>This true story of Carlson's Raiders is more o...</td>\n",
       "      <td>2</td>\n",
       "      <td>neg</td>\n",
       "      <td>0</td>\n",
       "      <td>train</td>\n",
       "      <td>9903</td>\n",
       "    </tr>\n",
       "    <tr>\n",
       "      <th>8</th>\n",
       "      <td>tt0035958</td>\n",
       "      <td>movie</td>\n",
       "      <td>'Gung Ho!': The Story of Carlson's Makin Islan...</td>\n",
       "      <td>'Gung Ho!': The Story of Carlson's Makin Islan...</td>\n",
       "      <td>1943</td>\n",
       "      <td>\\N</td>\n",
       "      <td>88</td>\n",
       "      <td>0</td>\n",
       "      <td>Drama,History,War</td>\n",
       "      <td>6.1</td>\n",
       "      <td>1240</td>\n",
       "      <td>Should have been titled 'Balderdash!' Little i...</td>\n",
       "      <td>2</td>\n",
       "      <td>neg</td>\n",
       "      <td>0</td>\n",
       "      <td>train</td>\n",
       "      <td>9905</td>\n",
       "    </tr>\n",
       "    <tr>\n",
       "      <th>9</th>\n",
       "      <td>tt0035958</td>\n",
       "      <td>movie</td>\n",
       "      <td>'Gung Ho!': The Story of Carlson's Makin Islan...</td>\n",
       "      <td>'Gung Ho!': The Story of Carlson's Makin Islan...</td>\n",
       "      <td>1943</td>\n",
       "      <td>\\N</td>\n",
       "      <td>88</td>\n",
       "      <td>0</td>\n",
       "      <td>Drama,History,War</td>\n",
       "      <td>6.1</td>\n",
       "      <td>1240</td>\n",
       "      <td>The movie 'Gung Ho!': The Story of Carlson's M...</td>\n",
       "      <td>4</td>\n",
       "      <td>neg</td>\n",
       "      <td>0</td>\n",
       "      <td>train</td>\n",
       "      <td>9904</td>\n",
       "    </tr>\n",
       "  </tbody>\n",
       "</table>\n",
       "</div>"
      ],
      "text/plain": [
       "      tconst title_type                                      primary_title  \\\n",
       "0  tt0068152      movie                                                  $   \n",
       "1  tt0068152      movie                                                  $   \n",
       "2  tt0313150      short                                               '15'   \n",
       "3  tt0313150      short                                               '15'   \n",
       "4  tt0313150      short                                               '15'   \n",
       "5  tt0313150      short                                               '15'   \n",
       "6  tt0313150      short                                               '15'   \n",
       "7  tt0035958      movie  'Gung Ho!': The Story of Carlson's Makin Islan...   \n",
       "8  tt0035958      movie  'Gung Ho!': The Story of Carlson's Makin Islan...   \n",
       "9  tt0035958      movie  'Gung Ho!': The Story of Carlson's Makin Islan...   \n",
       "\n",
       "                                      original_title  start_year end_year  \\\n",
       "0                                                  $        1971       \\N   \n",
       "1                                                  $        1971       \\N   \n",
       "2                                               '15'        2002       \\N   \n",
       "3                                               '15'        2002       \\N   \n",
       "4                                               '15'        2002       \\N   \n",
       "5                                               '15'        2002       \\N   \n",
       "6                                               '15'        2002       \\N   \n",
       "7  'Gung Ho!': The Story of Carlson's Makin Islan...        1943       \\N   \n",
       "8  'Gung Ho!': The Story of Carlson's Makin Islan...        1943       \\N   \n",
       "9  'Gung Ho!': The Story of Carlson's Makin Islan...        1943       \\N   \n",
       "\n",
       "  runtime_minutes  is_adult              genres  average_rating  votes  \\\n",
       "0             121         0  Comedy,Crime,Drama             6.3   2218   \n",
       "1             121         0  Comedy,Crime,Drama             6.3   2218   \n",
       "2              25         0  Comedy,Drama,Short             6.3    184   \n",
       "3              25         0  Comedy,Drama,Short             6.3    184   \n",
       "4              25         0  Comedy,Drama,Short             6.3    184   \n",
       "5              25         0  Comedy,Drama,Short             6.3    184   \n",
       "6              25         0  Comedy,Drama,Short             6.3    184   \n",
       "7              88         0   Drama,History,War             6.1   1240   \n",
       "8              88         0   Drama,History,War             6.1   1240   \n",
       "9              88         0   Drama,History,War             6.1   1240   \n",
       "\n",
       "                                              review  rating   sp  pos  \\\n",
       "0  The pakage implies that Warren Beatty and Gold...       1  neg    0   \n",
       "1  How the hell did they get this made?! Presenti...       1  neg    0   \n",
       "2  There is no real story the film seems more lik...       3  neg    0   \n",
       "3  Um .... a serious film about troubled teens in...       7  pos    1   \n",
       "4  I'm totally agree with GarryJohal from Singapo...       9  pos    1   \n",
       "5  This is the first movie I've seen from Singapo...       9  pos    1   \n",
       "6  Yes non-Singaporean's can't see what's the big...       9  pos    1   \n",
       "7  This true story of Carlson's Raiders is more o...       2  neg    0   \n",
       "8  Should have been titled 'Balderdash!' Little i...       2  neg    0   \n",
       "9  The movie 'Gung Ho!': The Story of Carlson's M...       4  neg    0   \n",
       "\n",
       "  ds_part   idx  \n",
       "0   train  8335  \n",
       "1   train  8336  \n",
       "2    test  2489  \n",
       "3    test  9280  \n",
       "4    test  9281  \n",
       "5    test  9282  \n",
       "6    test  9283  \n",
       "7   train  9903  \n",
       "8   train  9905  \n",
       "9   train  9904  "
      ]
     },
     "execution_count": 6,
     "metadata": {},
     "output_type": "execute_result"
    }
   ],
   "source": [
    "#Obtención de las 10 primeras filas de las bases de datos \n",
    "df_reviews.head(10)"
   ]
  },
  {
   "cell_type": "markdown",
   "metadata": {},
   "source": [
    "**NOTA GENERAL** \n",
    "* El DataFrame tiene un dimensión de (47331, 17). \n",
    "* Las reseñas de las películas van desde 1894 a 2010 \n",
    "* La calificación máxima que puede obtener un película es 10 y la mínima es 1.\n",
    "* El rating va desde 1.4 a 9.7 \n"
   ]
  },
  {
   "cell_type": "markdown",
   "metadata": {},
   "source": [
    "## EDA"
   ]
  },
  {
   "cell_type": "markdown",
   "metadata": {},
   "source": [
    "Veamos el número de películas y reseñas a lo largo de los años."
   ]
  },
  {
   "cell_type": "code",
   "execution_count": 7,
   "metadata": {},
   "outputs": [
    {
     "data": {
      "image/png": "[encoded data removed]",
      "text/plain": [
       "<Figure size 1600x800 with 3 Axes>"
      ]
     },
     "metadata": {},
     "output_type": "display_data"
    }
   ],
   "source": [
    "fig, axs = plt.subplots(2, 1, figsize=(16, 8))\n",
    "\n",
    "ax = axs[0]\n",
    "\n",
    "dft1 = df_reviews[['tconst', 'start_year']].drop_duplicates() \\\n",
    "    ['start_year'].value_counts().sort_index()\n",
    "dft1 = dft1.reindex(index=np.arange(dft1.index.min(), max(dft1.index.max(), 2021))).fillna(0)\n",
    "dft1.plot(kind='bar', ax=ax)\n",
    "ax.set_title('Número de películas a lo largo de los años')\n",
    "\n",
    "ax = axs[1]\n",
    "\n",
    "dft2 = df_reviews.groupby(['start_year', 'pos'])['pos'].count().unstack()\n",
    "dft2 = dft2.reindex(index=np.arange(dft2.index.min(), max(dft2.index.max(), 2021))).fillna(0)\n",
    "\n",
    "dft2.plot(kind='bar', stacked=True, label='#reviews (neg, pos)', ax=ax)\n",
    "\n",
    "dft2 = df_reviews['start_year'].value_counts().sort_index()\n",
    "dft2 = dft2.reindex(index=np.arange(dft2.index.min(), max(dft2.index.max(), 2021))).fillna(0)\n",
    "dft3 = (dft2/dft1).fillna(0)\n",
    "axt = ax.twinx()\n",
    "dft3.reset_index(drop=True).rolling(5).mean().plot(color='orange', label='reviews per movie (avg over 5 years)', ax=axt)\n",
    "\n",
    "lines, labels = axt.get_legend_handles_labels()\n",
    "ax.legend(lines, labels, loc='upper left')\n",
    "\n",
    "ax.set_title('Número de reseñas a lo largo de los años')\n",
    "\n",
    "fig.tight_layout()"
   ]
  },
  {
   "cell_type": "markdown",
   "metadata": {},
   "source": [
    "En esta gráfica se puede visualizar el comienzo de la reseñas de las películas comienzn desde 1899 hasta el año 2010. En el cual se puede visualizar que con el transcurso de los años, comenzaron a salir más peliculas y con este las reseñas se volvieron cruciales para las películas. "
   ]
  },
  {
   "cell_type": "markdown",
   "metadata": {},
   "source": [
    "Veamos la distribución del número de reseñas por película con el conteo exacto y KDE (solo para saber cómo puede diferir del conteo exacto)"
   ]
  },
  {
   "cell_type": "code",
   "execution_count": 8,
   "metadata": {},
   "outputs": [
    {
     "data": {
      "image/png": "[encoded data removed]",
      "text/plain": [
       "<Figure size 1600x500 with 2 Axes>"
      ]
     },
     "metadata": {},
     "output_type": "display_data"
    }
   ],
   "source": [
    "fig, axs = plt.subplots(1, 2, figsize=(16, 5))\n",
    "\n",
    "ax = axs[0]\n",
    "dft = df_reviews.groupby('tconst')['review'].count() \\\n",
    "    .value_counts() \\\n",
    "    .sort_index()\n",
    "dft.plot.bar(ax=ax)\n",
    "ax.set_title('Gráfico de barras de #Reseñas por película')\n",
    "\n",
    "ax = axs[1]\n",
    "dft = df_reviews.groupby('tconst')['review'].count()\n",
    "sns.kdeplot(dft, ax=ax)\n",
    "ax.set_title('Gráfico KDE de #Reseñas por película')\n",
    "\n",
    "fig.tight_layout()"
   ]
  },
  {
   "cell_type": "markdown",
   "metadata": {},
   "source": [
    "La distribución de reseñas por película es asimétrica y está concentrada en valores bajos, con un pequeño grupo de películas que tienen muchas reseñas, probablemente por ser más populares o estar limitadas en cantidad máxima de evaluaciones."
   ]
  },
  {
   "cell_type": "code",
   "execution_count": 9,
   "metadata": {},
   "outputs": [
    {
     "data": {
      "text/plain": [
       "0    23715\n",
       "1    23616\n",
       "Name: pos, dtype: int64"
      ]
     },
     "execution_count": 9,
     "metadata": {},
     "output_type": "execute_result"
    }
   ],
   "source": [
    "df_reviews['pos'].value_counts()"
   ]
  },
  {
   "cell_type": "code",
   "execution_count": 10,
   "metadata": {},
   "outputs": [
    {
     "data": {
      "image/png": "[encoded data removed]",
      "text/plain": [
       "<Figure size 1200x400 with 2 Axes>"
      ]
     },
     "metadata": {},
     "output_type": "display_data"
    }
   ],
   "source": [
    "fig, axs = plt.subplots(1, 2, figsize=(12, 4))\n",
    "\n",
    "ax = axs[0]\n",
    "dft = df_reviews.query('ds_part == \"train\"')['rating'].value_counts().sort_index()\n",
    "dft = dft.reindex(index=np.arange(min(dft.index.min(), 1), max(dft.index.max(), 11))).fillna(0)\n",
    "dft.plot.bar(ax=ax)\n",
    "ax.set_ylim([0, 5000])\n",
    "ax.set_title('El conjunto de entrenamiento: distribución de puntuaciones')\n",
    "\n",
    "ax = axs[1]\n",
    "dft = df_reviews.query('ds_part == \"test\"')['rating'].value_counts().sort_index()\n",
    "dft = dft.reindex(index=np.arange(min(dft.index.min(), 1), max(dft.index.max(), 11))).fillna(0)\n",
    "dft.plot.bar(ax=ax)\n",
    "ax.set_ylim([0, 5000])\n",
    "ax.set_title('El conjunto de prueba: distribución de puntuaciones')\n",
    "\n",
    "fig.tight_layout()"
   ]
  },
  {
   "cell_type": "markdown",
   "metadata": {},
   "source": [
    "La distribución entre el conjunto de pruebas y de entrenamiento tienen el mismo comportamineto. Significa que tienen la misma dimensión de valores. "
   ]
  },
  {
   "cell_type": "code",
   "execution_count": null,
   "metadata": {},
   "outputs": [],
   "source": []
  },
  {
   "cell_type": "markdown",
   "metadata": {},
   "source": [
    "Distribución de reseñas negativas y positivas a lo largo de los años para dos partes del conjunto de datos"
   ]
  },
  {
   "cell_type": "code",
   "execution_count": 11,
   "metadata": {},
   "outputs": [
    {
     "name": "stderr",
     "output_type": "stream",
     "text": [
      "/opt/conda/envs/python3/lib/python3.9/site-packages/seaborn/distributions.py:1666: UserWarning: Support for alternate kernels has been removed. Using Gaussian kernel.\n",
      "  warnings.warn(msg, UserWarning)\n",
      "/opt/conda/envs/python3/lib/python3.9/site-packages/seaborn/distributions.py:1666: UserWarning: Support for alternate kernels has been removed. Using Gaussian kernel.\n",
      "  warnings.warn(msg, UserWarning)\n",
      "/opt/conda/envs/python3/lib/python3.9/site-packages/seaborn/distributions.py:1666: UserWarning: Support for alternate kernels has been removed. Using Gaussian kernel.\n",
      "  warnings.warn(msg, UserWarning)\n",
      "/opt/conda/envs/python3/lib/python3.9/site-packages/seaborn/distributions.py:1666: UserWarning: Support for alternate kernels has been removed. Using Gaussian kernel.\n",
      "  warnings.warn(msg, UserWarning)\n"
     ]
    },
    {
     "data": {
      "image/png": "[encoded data removed]",
      "text/plain": [
       "<Figure size 1600x800 with 4 Axes>"
      ]
     },
     "metadata": {},
     "output_type": "display_data"
    }
   ],
   "source": [
    "fig, axs = plt.subplots(2, 2, figsize=(16, 8), gridspec_kw=dict(width_ratios=(2, 1), height_ratios=(1, 1)))\n",
    "\n",
    "ax = axs[0][0]\n",
    "\n",
    "dft = df_reviews.query('ds_part == \"train\"').groupby(['start_year', 'pos'])['pos'].count().unstack()\n",
    "dft.index = dft.index.astype('int')\n",
    "dft = dft.reindex(index=np.arange(dft.index.min(), max(dft.index.max(), 2020))).fillna(0)\n",
    "dft.plot(kind='bar', stacked=True, ax=ax)\n",
    "ax.set_title('El conjunto de entrenamiento: número de reseñas de diferentes polaridades por año')\n",
    "\n",
    "ax = axs[0][1]\n",
    "\n",
    "dft = df_reviews.query('ds_part == \"train\"').groupby(['tconst', 'pos'])['pos'].count().unstack()\n",
    "sns.kdeplot(dft[0], color='blue', label='negative', kernel='epa', ax=ax)\n",
    "sns.kdeplot(dft[1], color='green', label='positive', kernel='epa', ax=ax)\n",
    "ax.legend()\n",
    "ax.set_title('El conjunto de entrenamiento: distribución de diferentes polaridades por película')\n",
    "\n",
    "ax = axs[1][0]\n",
    "\n",
    "dft = df_reviews.query('ds_part == \"test\"').groupby(['start_year', 'pos'])['pos'].count().unstack()\n",
    "dft.index = dft.index.astype('int')\n",
    "dft = dft.reindex(index=np.arange(dft.index.min(), max(dft.index.max(), 2020))).fillna(0)\n",
    "dft.plot(kind='bar', stacked=True, ax=ax)\n",
    "ax.set_title('El conjunto de prueba: número de reseñas de diferentes polaridades por año')\n",
    "\n",
    "ax = axs[1][1]\n",
    "\n",
    "dft = df_reviews.query('ds_part == \"test\"').groupby(['tconst', 'pos'])['pos'].count().unstack()\n",
    "sns.kdeplot(dft[0], color='blue', label='negative', kernel='epa', ax=ax)\n",
    "sns.kdeplot(dft[1], color='green', label='positive', kernel='epa', ax=ax)\n",
    "ax.legend()\n",
    "ax.set_title('El conjunto de prueba: distribución de diferentes polaridades por película')\n",
    "\n",
    "fig.tight_layout()"
   ]
  },
  {
   "cell_type": "code",
   "execution_count": null,
   "metadata": {},
   "outputs": [],
   "source": []
  },
  {
   "cell_type": "markdown",
   "metadata": {},
   "source": [
    "## Procedimiento de evaluación"
   ]
  },
  {
   "cell_type": "markdown",
   "metadata": {},
   "source": [
    "Composición de una rutina de evaluación que se pueda usar para todos los modelos en este proyecto"
   ]
  },
  {
   "cell_type": "code",
   "execution_count": 12,
   "metadata": {},
   "outputs": [],
   "source": [
    "import sklearn.metrics as metrics\n",
    "def evaluate_model(model, train_features, train_target, test_features, test_target):\n",
    "    \n",
    "    eval_stats = {}\n",
    "    \n",
    "    fig, axs = plt.subplots(1, 3, figsize=(20, 6)) \n",
    "    \n",
    "    for type, features, target in (('train', train_features, train_target), ('test', test_features, test_target)):\n",
    "        \n",
    "        eval_stats[type] = {}\n",
    "    \n",
    "        pred_target = model.predict(features)\n",
    "        pred_proba = model.predict_proba(features)[:, 1]\n",
    "        \n",
    "        # F1\n",
    "        f1_thresholds = np.arange(0, 1.01, 0.05)\n",
    "        f1_scores = [metrics.f1_score(target, pred_proba>=threshold) for threshold in f1_thresholds]\n",
    "        \n",
    "        # ROC\n",
    "        fpr, tpr, roc_thresholds = metrics.roc_curve(target, pred_proba)\n",
    "        roc_auc = metrics.roc_auc_score(target, pred_proba)    \n",
    "        eval_stats[type]['ROC AUC'] = roc_auc\n",
    "\n",
    "        # PRC\n",
    "        precision, recall, pr_thresholds = metrics.precision_recall_curve(target, pred_proba)\n",
    "        aps = metrics.average_precision_score(target, pred_proba)\n",
    "        eval_stats[type]['APS'] = aps\n",
    "        \n",
    "        if type == 'train':\n",
    "            color = 'blue'\n",
    "        else:\n",
    "            color = 'green'\n",
    "\n",
    "        # Valor F1\n",
    "        ax = axs[0]\n",
    "        max_f1_score_idx = np.argmax(f1_scores)\n",
    "        ax.plot(f1_thresholds, f1_scores, color=color, label=f'{type}, max={f1_scores[max_f1_score_idx]:.2f} @ {f1_thresholds[max_f1_score_idx]:.2f}')\n",
    "        # establecer cruces para algunos umbrales        \n",
    "        for threshold in (0.2, 0.4, 0.5, 0.6, 0.8):\n",
    "            closest_value_idx = np.argmin(np.abs(f1_thresholds-threshold))\n",
    "            marker_color = 'orange' if threshold != 0.5 else 'red'\n",
    "            ax.plot(f1_thresholds[closest_value_idx], f1_scores[closest_value_idx], color=marker_color, marker='X', markersize=7)\n",
    "        ax.set_xlim([-0.02, 1.02])    \n",
    "        ax.set_ylim([-0.02, 1.02])\n",
    "        ax.set_xlabel('threshold')\n",
    "        ax.set_ylabel('F1')\n",
    "        ax.legend(loc='lower center')\n",
    "        ax.set_title(f'Valor F1') \n",
    "\n",
    "        # ROC\n",
    "        ax = axs[1]    \n",
    "        ax.plot(fpr, tpr, color=color, label=f'{type}, ROC AUC={roc_auc:.2f}')\n",
    "        # establecer cruces para algunos umbrales        \n",
    "        for threshold in (0.2, 0.4, 0.5, 0.6, 0.8):\n",
    "            closest_value_idx = np.argmin(np.abs(roc_thresholds-threshold))\n",
    "            marker_color = 'orange' if threshold != 0.5 else 'red'            \n",
    "            ax.plot(fpr[closest_value_idx], tpr[closest_value_idx], color=marker_color, marker='X', markersize=7)\n",
    "        ax.plot([0, 1], [0, 1], color='grey', linestyle='--')\n",
    "        ax.set_xlim([-0.02, 1.02])    \n",
    "        ax.set_ylim([-0.02, 1.02])\n",
    "        ax.set_xlabel('FPR')\n",
    "        ax.set_ylabel('TPR')\n",
    "        ax.legend(loc='lower center')        \n",
    "        ax.set_title(f'Curva ROC')\n",
    "        \n",
    "        # PRC\n",
    "        ax = axs[2]\n",
    "        ax.plot(recall, precision, color=color, label=f'{type}, AP={aps:.2f}')\n",
    "        # establecer cruces para algunos umbrales        \n",
    "        for threshold in (0.2, 0.4, 0.5, 0.6, 0.8):\n",
    "            closest_value_idx = np.argmin(np.abs(pr_thresholds-threshold))\n",
    "            marker_color = 'orange' if threshold != 0.5 else 'red'\n",
    "            ax.plot(recall[closest_value_idx], precision[closest_value_idx], color=marker_color, marker='X', markersize=7)\n",
    "        ax.set_xlim([-0.02, 1.02])    \n",
    "        ax.set_ylim([-0.02, 1.02])\n",
    "        ax.set_xlabel('recall')\n",
    "        ax.set_ylabel('precision')\n",
    "        ax.legend(loc='lower center')\n",
    "        ax.set_title(f'PRC')        \n",
    "\n",
    "        eval_stats[type]['Accuracy'] = metrics.accuracy_score(target, pred_target)\n",
    "        eval_stats[type]['F1'] = metrics.f1_score(target, pred_target)\n",
    "    \n",
    "    df_eval_stats = pd.DataFrame(eval_stats)\n",
    "    df_eval_stats = df_eval_stats.round(2)\n",
    "    df_eval_stats = df_eval_stats.reindex(index=('Exactitud', 'F1', 'APS', 'ROC AUC'))\n",
    "    \n",
    "    print(df_eval_stats)\n",
    "    \n",
    "    return"
   ]
  },
  {
   "cell_type": "markdown",
   "metadata": {},
   "source": [
    "## Normalización"
   ]
  },
  {
   "cell_type": "markdown",
   "metadata": {},
   "source": [
    "Suponemos que todos los modelos a continuación aceptan textos en minúsculas y sin dígitos, signos de puntuación, etc."
   ]
  },
  {
   "cell_type": "code",
   "execution_count": 13,
   "metadata": {},
   "outputs": [],
   "source": [
    "def  normalization_text(text):\n",
    "    #El proposito de esto es transforma un texto. En donde se devolvera el texto en minúsculas\n",
    "    # y solamente con letras y apóstrofes.\n",
    "    \n",
    "    pattern = r\"[^a-z']\"\n",
    "    text = re.sub(pattern, \" \", text.lower()).split()\n",
    "    return \" \".join(text)"
   ]
  },
  {
   "cell_type": "code",
   "execution_count": 14,
   "metadata": {},
   "outputs": [
    {
     "data": {
      "text/html": [
       "<div>\n",
       "<style scoped>\n",
       "    .dataframe tbody tr th:only-of-type {\n",
       "        vertical-align: middle;\n",
       "    }\n",
       "\n",
       "    .dataframe tbody tr th {\n",
       "        vertical-align: top;\n",
       "    }\n",
       "\n",
       "    .dataframe thead th {\n",
       "        text-align: right;\n",
       "    }\n",
       "</style>\n",
       "<table border=\"1\" class=\"dataframe\">\n",
       "  <thead>\n",
       "    <tr style=\"text-align: right;\">\n",
       "      <th></th>\n",
       "      <th>review</th>\n",
       "      <th>review_norm</th>\n",
       "    </tr>\n",
       "  </thead>\n",
       "  <tbody>\n",
       "    <tr>\n",
       "      <th>0</th>\n",
       "      <td>The pakage implies that Warren Beatty and Gold...</td>\n",
       "      <td>the pakage implies that warren beatty and gold...</td>\n",
       "    </tr>\n",
       "    <tr>\n",
       "      <th>1</th>\n",
       "      <td>How the hell did they get this made?! Presenti...</td>\n",
       "      <td>how the hell did they get this made presenting...</td>\n",
       "    </tr>\n",
       "    <tr>\n",
       "      <th>2</th>\n",
       "      <td>There is no real story the film seems more lik...</td>\n",
       "      <td>there is no real story the film seems more lik...</td>\n",
       "    </tr>\n",
       "    <tr>\n",
       "      <th>3</th>\n",
       "      <td>Um .... a serious film about troubled teens in...</td>\n",
       "      <td>um a serious film about troubled teens in sing...</td>\n",
       "    </tr>\n",
       "    <tr>\n",
       "      <th>4</th>\n",
       "      <td>I'm totally agree with GarryJohal from Singapo...</td>\n",
       "      <td>i'm totally agree with garryjohal from singapo...</td>\n",
       "    </tr>\n",
       "    <tr>\n",
       "      <th>5</th>\n",
       "      <td>This is the first movie I've seen from Singapo...</td>\n",
       "      <td>this is the first movie i've seen from singapo...</td>\n",
       "    </tr>\n",
       "    <tr>\n",
       "      <th>6</th>\n",
       "      <td>Yes non-Singaporean's can't see what's the big...</td>\n",
       "      <td>yes non singaporean's can't see what's the big...</td>\n",
       "    </tr>\n",
       "    <tr>\n",
       "      <th>7</th>\n",
       "      <td>This true story of Carlson's Raiders is more o...</td>\n",
       "      <td>this true story of carlson's raiders is more o...</td>\n",
       "    </tr>\n",
       "    <tr>\n",
       "      <th>8</th>\n",
       "      <td>Should have been titled 'Balderdash!' Little i...</td>\n",
       "      <td>should have been titled 'balderdash ' little i...</td>\n",
       "    </tr>\n",
       "    <tr>\n",
       "      <th>9</th>\n",
       "      <td>The movie 'Gung Ho!': The Story of Carlson's M...</td>\n",
       "      <td>the movie 'gung ho ' the story of carlson's ma...</td>\n",
       "    </tr>\n",
       "  </tbody>\n",
       "</table>\n",
       "</div>"
      ],
      "text/plain": [
       "                                              review  \\\n",
       "0  The pakage implies that Warren Beatty and Gold...   \n",
       "1  How the hell did they get this made?! Presenti...   \n",
       "2  There is no real story the film seems more lik...   \n",
       "3  Um .... a serious film about troubled teens in...   \n",
       "4  I'm totally agree with GarryJohal from Singapo...   \n",
       "5  This is the first movie I've seen from Singapo...   \n",
       "6  Yes non-Singaporean's can't see what's the big...   \n",
       "7  This true story of Carlson's Raiders is more o...   \n",
       "8  Should have been titled 'Balderdash!' Little i...   \n",
       "9  The movie 'Gung Ho!': The Story of Carlson's M...   \n",
       "\n",
       "                                         review_norm  \n",
       "0  the pakage implies that warren beatty and gold...  \n",
       "1  how the hell did they get this made presenting...  \n",
       "2  there is no real story the film seems more lik...  \n",
       "3  um a serious film about troubled teens in sing...  \n",
       "4  i'm totally agree with garryjohal from singapo...  \n",
       "5  this is the first movie i've seen from singapo...  \n",
       "6  yes non singaporean's can't see what's the big...  \n",
       "7  this true story of carlson's raiders is more o...  \n",
       "8  should have been titled 'balderdash ' little i...  \n",
       "9  the movie 'gung ho ' the story of carlson's ma...  "
      ]
     },
     "execution_count": 14,
     "metadata": {},
     "output_type": "execute_result"
    }
   ],
   "source": [
    "# Creación de  una columna con las reviews normaliza\n",
    "df_reviews['review_norm'] = df_reviews['review'].apply(normalization_text)\n",
    "\n",
    "#Visualización de los cambios y se escogera 10\n",
    "df_reviews[['review', 'review_norm']].head(10)"
   ]
  },
  {
   "cell_type": "markdown",
   "metadata": {},
   "source": [
    "## División entrenamiento / prueba"
   ]
  },
  {
   "cell_type": "markdown",
   "metadata": {},
   "source": [
    "Por fortuna, todo el conjunto de datos ya está dividido en partes de entrenamiento/prueba; 'ds_part' es el indicador correspondiente."
   ]
  },
  {
   "cell_type": "code",
   "execution_count": 15,
   "metadata": {},
   "outputs": [
    {
     "name": "stdout",
     "output_type": "stream",
     "text": [
      "(23796, 18)\n",
      "(23535, 18)\n"
     ]
    }
   ],
   "source": [
    "df_reviews_train = df_reviews.query('ds_part == \"train\"').copy()\n",
    "df_reviews_test = df_reviews.query('ds_part == \"test\"').copy()\n",
    "\n",
    "train_target = df_reviews_train['pos']\n",
    "test_target = df_reviews_test['pos']\n",
    "\n",
    "print(df_reviews_train.shape)\n",
    "print(df_reviews_test.shape)"
   ]
  },
  {
   "cell_type": "markdown",
   "metadata": {},
   "source": [
    "## Trabajar con modelos"
   ]
  },
  {
   "cell_type": "markdown",
   "metadata": {},
   "source": [
    "### Modelo 0 - Constante"
   ]
  },
  {
   "cell_type": "code",
   "execution_count": 16,
   "metadata": {},
   "outputs": [],
   "source": [
    "from sklearn.dummy import DummyClassifier\n",
    "from sklearn.metrics import accuracy_score, classification_report"
   ]
  },
  {
   "cell_type": "code",
   "execution_count": 17,
   "metadata": {},
   "outputs": [
    {
     "data": {
      "text/plain": [
       "DummyClassifier(random_state=42, strategy='uniform')"
      ]
     },
     "execution_count": 17,
     "metadata": {},
     "output_type": "execute_result"
    }
   ],
   "source": [
    "# Inicializar el modelo dummy y entrenarlo. \n",
    "dummy_clf = DummyClassifier(strategy='uniform', random_state=42)\n",
    "dummy_clf.fit(df_reviews_train, train_target)"
   ]
  },
  {
   "cell_type": "code",
   "execution_count": 18,
   "metadata": {},
   "outputs": [
    {
     "name": "stdout",
     "output_type": "stream",
     "text": [
      "Accuracy: 0.5015933715742511\n",
      "\n",
      "Classification Report:\n",
      "              precision    recall  f1-score   support\n",
      "\n",
      "           0       0.50      0.50      0.50     11803\n",
      "           1       0.50      0.50      0.50     11732\n",
      "\n",
      "    accuracy                           0.50     23535\n",
      "   macro avg       0.50      0.50      0.50     23535\n",
      "weighted avg       0.50      0.50      0.50     23535\n",
      "\n"
     ]
    }
   ],
   "source": [
    "dummy_pred = dummy_clf.predict(df_reviews_test)\n",
    "\n",
    "# Imprimir el accuracy score\n",
    "print(\"Accuracy:\", accuracy_score(test_target, dummy_pred))\n",
    "\n",
    "# Print classification reports\n",
    "print(\"\\nClassification Report:\")\n",
    "print(classification_report(test_target, dummy_pred))"
   ]
  },
  {
   "cell_type": "code",
   "execution_count": 19,
   "metadata": {},
   "outputs": [
    {
     "name": "stdout",
     "output_type": "stream",
     "text": [
      "           train  test\n",
      "Exactitud    NaN   NaN\n",
      "F1          0.51   0.5\n",
      "APS         0.50   0.5\n",
      "ROC AUC     0.50   0.5\n"
     ]
    },
    {
     "data": {
      "image/png": "[encoded data removed]",
      "text/plain": [
       "<Figure size 2000x600 with 3 Axes>"
      ]
     },
     "metadata": {},
     "output_type": "display_data"
    }
   ],
   "source": [
    "# Evaluar el modelo para F1, APS, ROC-AUC\n",
    "evaluate_model(dummy_clf, df_reviews_train, train_target, df_reviews_test, test_target)"
   ]
  },
  {
   "cell_type": "markdown",
   "metadata": {},
   "source": [
    "### Modelo 1 - NLTK, TF-IDF y LR"
   ]
  },
  {
   "cell_type": "markdown",
   "metadata": {},
   "source": [
    "TF-IDF"
   ]
  },
  {
   "cell_type": "code",
   "execution_count": 20,
   "metadata": {},
   "outputs": [],
   "source": [
    "import nltk\n",
    "\n",
    "\n",
    "from sklearn.feature_extraction.text import TfidfVectorizer\n",
    "from sklearn.linear_model import LogisticRegression\n",
    "\n",
    "from nltk.corpus import stopwords"
   ]
  },
  {
   "cell_type": "code",
   "execution_count": 21,
   "metadata": {},
   "outputs": [
    {
     "name": "stdout",
     "output_type": "stream",
     "text": [
      "El tamaño de train_features es: (23796, 71531)\n",
      "El tamaño de test_features es: (23535, 71531)\n"
     ]
    }
   ],
   "source": [
    "# definir las palabras vacías\n",
    "stop_words = set(stopwords.words('english'))\n",
    "\n",
    "#Configurar el vectorizador TF-IDF y pasar las palabras irrelevantes\n",
    "# En donde el vectorizador convierte texto en una representación numérica basada en TF-IDF\n",
    "tfid_vectorizer = TfidfVectorizer(stop_words = stop_words, lowercase=True)\n",
    "\n",
    "# Transformar los datos de entrenamiento y prueba\n",
    "\n",
    "train_features_1 = tfid_vectorizer.fit_transform(df_reviews_train['review_norm'])\n",
    "\n",
    "test_features_1 = tfid_vectorizer.transform(df_reviews_test[\"review_norm\"])\n",
    "\n",
    "# Mostrar las dimensiones de los conjuntos transformados\n",
    "print(f'El tamaño de train_features es: {train_features_1.shape}')\n",
    "print(f'El tamaño de test_features es: {test_features_1.shape}')"
   ]
  },
  {
   "cell_type": "code",
   "execution_count": 22,
   "metadata": {},
   "outputs": [
    {
     "data": {
      "text/plain": [
       "LogisticRegression()"
      ]
     },
     "execution_count": 22,
     "metadata": {},
     "output_type": "execute_result"
    }
   ],
   "source": [
    "#Entrenamiento y ajueste del modelo \n",
    "model_1 = LogisticRegression()\n",
    "model_1.fit(train_features_1, train_target)"
   ]
  },
  {
   "cell_type": "code",
   "execution_count": 23,
   "metadata": {},
   "outputs": [
    {
     "name": "stdout",
     "output_type": "stream",
     "text": [
      "           train  test\n",
      "Exactitud    NaN   NaN\n",
      "F1          0.94  0.88\n",
      "APS         0.98  0.95\n",
      "ROC AUC     0.98  0.95\n"
     ]
    },
    {
     "data": {
      "image/png": "[encoded data removed]",
      "text/plain": [
       "<Figure size 2000x600 with 3 Axes>"
      ]
     },
     "metadata": {},
     "output_type": "display_data"
    }
   ],
   "source": [
    "#Evaluar el modelo \n",
    "evaluate_model(model_1, train_features_1, train_target, test_features_1, test_target)"
   ]
  },
  {
   "cell_type": "markdown",
   "metadata": {},
   "source": [
    "### Modelo 3 - spaCy, TF-IDF y LR"
   ]
  },
  {
   "cell_type": "code",
   "execution_count": 24,
   "metadata": {},
   "outputs": [],
   "source": [
    "import spacy\n",
    "\n",
    "nlp = spacy.load('en_core_web_sm', disable=['parser', 'ner'])"
   ]
  },
  {
   "cell_type": "code",
   "execution_count": 26,
   "metadata": {},
   "outputs": [],
   "source": [
    "def text_preprocessing_3(text):\n",
    "    \n",
    "    doc = nlp(text)\n",
    "    #tokens = [token.lemma_ for token in doc if not token.is_stop]\n",
    "    tokens = [token.lemma_ for token in doc]\n",
    "    \n",
    "    return ' '.join(tokens)"
   ]
  },
  {
   "cell_type": "code",
   "execution_count": 27,
   "metadata": {},
   "outputs": [],
   "source": [
    "#1ro paso: Inicialización \n",
    "nlp = spacy.load('en_core_web_sm', disable=['parser', 'ner'])\n",
    "\n",
    "#2do paso: aplicar lemma en el dataset de entrenamiento\n",
    "df_reviews_train['review_tokenized_3'] = df_reviews_train['review_norm'].apply(lambda x: text_preprocessing_3(x))\n",
    "\n",
    "#3er paso: Aplicar lemma en el dataset de prueba \n",
    "df_reviews_test['review_tokenized_3'] = df_reviews_test['review_norm'].apply(lambda x: text_preprocessing_3(x))"
   ]
  },
  {
   "cell_type": "code",
   "execution_count": 28,
   "metadata": {},
   "outputs": [
    {
     "data": {
      "text/plain": [
       "20112    hubert selby jr give we the book requiem for a...\n",
       "18143    this be talk about to death by the critic when...\n",
       "10959    this movie have such inexorable b class cheapn...\n",
       "18780    this film really disappoint I the acting be at...\n",
       "9445     contain some spoiler this movie be cheesy s ho...\n",
       "Name: review_tokenized_3, dtype: object"
      ]
     },
     "execution_count": 28,
     "metadata": {},
     "output_type": "execute_result"
    }
   ],
   "source": [
    "#4to paso: Visualización del cambio en el datset tanto de entreneamiento y prueba \n",
    "df_reviews_train['review_tokenized_3'].sample(5)"
   ]
  },
  {
   "cell_type": "code",
   "execution_count": 29,
   "metadata": {},
   "outputs": [
    {
     "data": {
      "text/plain": [
       "38838    this movie be awful beyond belief it be a low ...\n",
       "13318    christopher nolan 's first directorial effort ...\n",
       "43710    drab dreary and a total waste of my time the p...\n",
       "19479    this be a excellent back when it come out it h...\n",
       "45560    why do c thomas howell do these movie cruise h...\n",
       "Name: review_tokenized_3, dtype: object"
      ]
     },
     "execution_count": 29,
     "metadata": {},
     "output_type": "execute_result"
    }
   ],
   "source": [
    "df_reviews_test['review_tokenized_3'].sample(5)"
   ]
  },
  {
   "cell_type": "code",
   "execution_count": 30,
   "metadata": {},
   "outputs": [
    {
     "name": "stdout",
     "output_type": "stream",
     "text": [
      "El tamaño de train features de este modelo es: (23796, 59276)\n",
      "El tamaño de test features de este modelo es: (23796, 59276)\n"
     ]
    }
   ],
   "source": [
    "#5to paso: Vectorizar el conjunto de prueba y el de entrenamiento \n",
    "tfidf_vectorizer_3 = TfidfVectorizer()\n",
    "\n",
    "train_features_3 = tfidf_vectorizer_3.fit_transform(df_reviews_train['review_tokenized_3'])\n",
    "\n",
    "test_features_3 = tfidf_vectorizer_3.transform(df_reviews_test['review_tokenized_3'])\n",
    "\n",
    "print(f'El tamaño de train features de este modelo es: {train_features_3.shape}')\n",
    "print(f'El tamaño de test features de este modelo es: {train_features_3.shape}')"
   ]
  },
  {
   "cell_type": "code",
   "execution_count": 31,
   "metadata": {},
   "outputs": [
    {
     "data": {
      "text/plain": [
       "LogisticRegression(max_iter=1000)"
      ]
     },
     "execution_count": 31,
     "metadata": {},
     "output_type": "execute_result"
    }
   ],
   "source": [
    "#6to paso: Hacer el modelo LR y entrenarlo \n",
    "model_3 = LogisticRegression(max_iter=1000)\n",
    "model_3.fit(train_features_3, train_target)"
   ]
  },
  {
   "cell_type": "code",
   "execution_count": 32,
   "metadata": {},
   "outputs": [
    {
     "name": "stdout",
     "output_type": "stream",
     "text": [
      "           train  test\n",
      "Exactitud    NaN   NaN\n",
      "F1          0.93  0.88\n",
      "APS         0.98  0.95\n",
      "ROC AUC     0.98  0.95\n"
     ]
    },
    {
     "data": {
      "image/png": "[encoded data removed]",
      "text/plain": [
       "<Figure size 2000x600 with 3 Axes>"
      ]
     },
     "metadata": {},
     "output_type": "display_data"
    }
   ],
   "source": [
    "#7to paso: Evaluar el modelo \n",
    "evaluate_model(model_3, train_features_3, train_target, test_features_3, test_target)"
   ]
  },
  {
   "cell_type": "markdown",
   "metadata": {},
   "source": [
    "### Modelo 4 - spaCy, TF-IDF y LGBMClassifier"
   ]
  },
  {
   "cell_type": "code",
   "execution_count": 33,
   "metadata": {},
   "outputs": [],
   "source": [
    "from lightgbm import LGBMClassifier"
   ]
  },
  {
   "cell_type": "code",
   "execution_count": 34,
   "metadata": {},
   "outputs": [
    {
     "name": "stdout",
     "output_type": "stream",
     "text": [
      "CPU times: user 31.2 s, sys: 143 ms, total: 31.4 s\n",
      "Wall time: 31.4 s\n"
     ]
    },
    {
     "data": {
      "text/plain": [
       "LGBMClassifier()"
      ]
     },
     "execution_count": 34,
     "metadata": {},
     "output_type": "execute_result"
    }
   ],
   "source": [
    "%%time \n",
    "model_4 = LGBMClassifier(learning_rate=.1)\n",
    "model_4.fit(train_features_3, train_target)"
   ]
  },
  {
   "cell_type": "code",
   "execution_count": 35,
   "metadata": {},
   "outputs": [
    {
     "name": "stdout",
     "output_type": "stream",
     "text": [
      "           train  test\n",
      "Exactitud    NaN   NaN\n",
      "F1          0.92  0.86\n",
      "APS         0.98  0.94\n",
      "ROC AUC     0.98  0.94\n"
     ]
    },
    {
     "data": {
      "image/png": "[encoded data removed]",
      "text/plain": [
       "<Figure size 2000x600 with 3 Axes>"
      ]
     },
     "metadata": {},
     "output_type": "display_data"
    }
   ],
   "source": [
    "# Evaluar el modelo para F1, APS, ROC-AUC\n",
    "evaluate_model(model_4, train_features_3, train_target, test_features_3, test_target)"
   ]
  },
  {
   "cell_type": "markdown",
   "metadata": {},
   "source": [
    "###  Modelo 9 - BERT"
   ]
  },
  {
   "cell_type": "code",
   "execution_count": 37,
   "metadata": {},
   "outputs": [],
   "source": [
    "import torch\n",
    "import transformers"
   ]
  },
  {
   "cell_type": "code",
   "execution_count": 38,
   "metadata": {},
   "outputs": [
    {
     "name": "stderr",
     "output_type": "stream",
     "text": [
      "Some weights of the model checkpoint at bert-base-uncased were not used when initializing BertModel: ['cls.seq_relationship.weight', 'cls.predictions.transform.dense.weight', 'cls.predictions.transform.LayerNorm.weight', 'cls.predictions.transform.LayerNorm.bias', 'cls.seq_relationship.bias', 'cls.predictions.transform.dense.bias', 'cls.predictions.decoder.weight', 'cls.predictions.bias']\n",
      "- This IS expected if you are initializing BertModel from the checkpoint of a model trained on another task or with another architecture (e.g. initializing a BertForSequenceClassification model from a BertForPreTraining model).\n",
      "- This IS NOT expected if you are initializing BertModel from the checkpoint of a model that you expect to be exactly identical (initializing a BertForSequenceClassification model from a BertForSequenceClassification model).\n"
     ]
    }
   ],
   "source": [
    "tokenizer = transformers.BertTokenizer.from_pretrained('bert-base-uncased')\n",
    "config = transformers.BertConfig.from_pretrained('bert-base-uncased')\n",
    "model = transformers.BertModel.from_pretrained('bert-base-uncased')"
   ]
  },
  {
   "cell_type": "code",
   "execution_count": 39,
   "metadata": {},
   "outputs": [],
   "source": [
    "def BERT_text_to_embeddings(texts, max_length=512, batch_size=100, force_device=None, disable_progress_bar=False):\n",
    "    ids_list = []\n",
    "    attention_mask_list = []\n",
    "\n",
    "    # Preparar las IDs y las máscaras de atención\n",
    "    for input_text in tqdm(texts, disable=disable_progress_bar):\n",
    "        ids = tokenizer.encode(input_text.lower(), add_special_tokens=True, truncation=True, max_length=max_length)\n",
    "        padded = np.array(ids + [0] * (max_length - len(ids)))\n",
    "        attention_mask = np.where(padded != 0, 1, 0)\n",
    "        ids_list.append(padded)\n",
    "        attention_mask_list.append(attention_mask)\n",
    "    \n",
    "    # Convertir listas a arrays NumPy\n",
    "    ids_array = np.array(ids_list)\n",
    "    attention_mask_array = np.array(attention_mask_list)\n",
    "\n",
    "    # Configurar el dispositivo\n",
    "    device = torch.device(force_device if force_device else ('cuda' if torch.cuda.is_available() else 'cpu'))\n",
    "    model.to(device)\n",
    "    if not disable_progress_bar:\n",
    "        print(f'Uso del dispositivo {device}.')\n",
    "\n",
    "    # Obtener embeddings en lotes\n",
    "    embeddings = []\n",
    "    for i in tqdm(range(math.ceil(len(ids_array) / batch_size)), disable=disable_progress_bar):\n",
    "        ids_batch = torch.tensor(ids_array[batch_size * i:batch_size * (i + 1)], dtype=torch.long).to(device)\n",
    "        attention_mask_batch = torch.tensor(attention_mask_array[batch_size * i:batch_size * (i + 1)], \n",
    "                                            dtype=torch.long).to(device)\n",
    "\n",
    "        with torch.no_grad():\n",
    "            model.eval()\n",
    "            batch_embeddings = model(input_ids=ids_batch, attention_mask=attention_mask_batch)\n",
    "        embeddings.append(batch_embeddings[0][:, 0, :].cpu().numpy())\n",
    "\n",
    "    return np.concatenate(embeddings)"
   ]
  },
  {
   "cell_type": "code",
   "execution_count": 40,
   "metadata": {},
   "outputs": [
    {
     "name": "stdout",
     "output_type": "stream",
     "text": [
      "¿CUDA disponible?: False\n",
      "Dispositivo en uso: cpu\n"
     ]
    }
   ],
   "source": [
    "print(\"¿CUDA disponible?:\", torch.cuda.is_available())\n",
    "print(\"Dispositivo en uso:\", torch.device('cuda' if torch.cuda.is_available() else 'cpu'))"
   ]
  },
  {
   "cell_type": "code",
   "execution_count": null,
   "metadata": {},
   "outputs": [
    {
     "data": {
      "application/vnd.jupyter.widget-view+json": {
       "model_id": "5637dd5b13ef4e84b3a2e1f9c1398f9b",
       "version_major": 2,
       "version_minor": 0
      },
      "text/plain": [
       "  0%|          | 0/23796 [00:00<?, ?it/s]"
      ]
     },
     "metadata": {},
     "output_type": "display_data"
    },
    {
     "name": "stdout",
     "output_type": "stream",
     "text": [
      "Uso del dispositivo cpu.\n"
     ]
    },
    {
     "data": {
      "application/vnd.jupyter.widget-view+json": {
       "model_id": "7a4d17e065e34d1da616a3c0285b5d2b",
       "version_major": 2,
       "version_minor": 0
      },
      "text/plain": [
       "  0%|          | 0/238 [00:00<?, ?it/s]"
      ]
     },
     "metadata": {},
     "output_type": "display_data"
    }
   ],
   "source": [
    "# ¡Atención! La ejecución de BERT para miles de textos puede llevar mucho tiempo en la CPU, al menos varias horas\n",
    "train_features_9 = BERT_text_to_embeddings(df_reviews_train['review_norm'], force_device='cpu')"
   ]
  },
  {
   "cell_type": "code",
   "execution_count": null,
   "metadata": {},
   "outputs": [],
   "source": [
    "print(df_reviews_train['review_norm'].shape)\n",
    "print(train_features_9.shape)\n",
    "print(train_target.shape)"
   ]
  },
  {
   "cell_type": "code",
   "execution_count": null,
   "metadata": {},
   "outputs": [],
   "source": [
    "# si ya obtuviste los insertados, te recomendamos guardarlos para tenerlos listos si\n",
    "np.savez_compressed('features_9.npz', train_features_9=train_features_9, test_features_9=test_features_9)\n",
    "\n",
    "# y cargar...\n",
    "with np.load('features_9.npz') as data:\n",
    "    train_features_9 = data['train_features_9']\n",
    "    test_features_9 = data['test_features_9']"
   ]
  },
  {
   "cell_type": "markdown",
   "metadata": {},
   "source": [
    "## Mis reseñas"
   ]
  },
  {
   "cell_type": "code",
   "execution_count": 41,
   "metadata": {},
   "outputs": [
    {
     "data": {
      "text/html": [
       "<div>\n",
       "<style scoped>\n",
       "    .dataframe tbody tr th:only-of-type {\n",
       "        vertical-align: middle;\n",
       "    }\n",
       "\n",
       "    .dataframe tbody tr th {\n",
       "        vertical-align: top;\n",
       "    }\n",
       "\n",
       "    .dataframe thead th {\n",
       "        text-align: right;\n",
       "    }\n",
       "</style>\n",
       "<table border=\"1\" class=\"dataframe\">\n",
       "  <thead>\n",
       "    <tr style=\"text-align: right;\">\n",
       "      <th></th>\n",
       "      <th>review</th>\n",
       "      <th>review_norm</th>\n",
       "    </tr>\n",
       "  </thead>\n",
       "  <tbody>\n",
       "    <tr>\n",
       "      <th>0</th>\n",
       "      <td>I did not simply like it, not my kind of movie.</td>\n",
       "      <td>I do not simply like it , not my kind of movie .</td>\n",
       "    </tr>\n",
       "    <tr>\n",
       "      <th>1</th>\n",
       "      <td>Well, I was bored and felt asleep in the middl...</td>\n",
       "      <td>well , I be bored and feel asleep in the middl...</td>\n",
       "    </tr>\n",
       "    <tr>\n",
       "      <th>2</th>\n",
       "      <td>I was really fascinated with the movie</td>\n",
       "      <td>I be really fascinated with the movie</td>\n",
       "    </tr>\n",
       "    <tr>\n",
       "      <th>3</th>\n",
       "      <td>Even the actors looked really old and disinter...</td>\n",
       "      <td>even the actor look really old and disinterest...</td>\n",
       "    </tr>\n",
       "    <tr>\n",
       "      <th>4</th>\n",
       "      <td>I didn't expect the reboot to be so good! Writ...</td>\n",
       "      <td>I do not expect the reboot to be so good ! wri...</td>\n",
       "    </tr>\n",
       "    <tr>\n",
       "      <th>5</th>\n",
       "      <td>The movie had its upsides and downsides, but I...</td>\n",
       "      <td>the movie have its upside and downside , but I...</td>\n",
       "    </tr>\n",
       "    <tr>\n",
       "      <th>6</th>\n",
       "      <td>What a rotten attempt at a comedy. Not a singl...</td>\n",
       "      <td>what a rotten attempt at a comedy . not a sing...</td>\n",
       "    </tr>\n",
       "    <tr>\n",
       "      <th>7</th>\n",
       "      <td>Launching on Netflix was a brave move &amp; I real...</td>\n",
       "      <td>launch on Netflix be a brave move &amp; I really a...</td>\n",
       "    </tr>\n",
       "  </tbody>\n",
       "</table>\n",
       "</div>"
      ],
      "text/plain": [
       "                                              review  \\\n",
       "0    I did not simply like it, not my kind of movie.   \n",
       "1  Well, I was bored and felt asleep in the middl...   \n",
       "2             I was really fascinated with the movie   \n",
       "3  Even the actors looked really old and disinter...   \n",
       "4  I didn't expect the reboot to be so good! Writ...   \n",
       "5  The movie had its upsides and downsides, but I...   \n",
       "6  What a rotten attempt at a comedy. Not a singl...   \n",
       "7  Launching on Netflix was a brave move & I real...   \n",
       "\n",
       "                                         review_norm  \n",
       "0   I do not simply like it , not my kind of movie .  \n",
       "1  well , I be bored and feel asleep in the middl...  \n",
       "2              I be really fascinated with the movie  \n",
       "3  even the actor look really old and disinterest...  \n",
       "4  I do not expect the reboot to be so good ! wri...  \n",
       "5  the movie have its upside and downside , but I...  \n",
       "6  what a rotten attempt at a comedy . not a sing...  \n",
       "7  launch on Netflix be a brave move & I really a...  "
      ]
     },
     "execution_count": 41,
     "metadata": {},
     "output_type": "execute_result"
    }
   ],
   "source": [
    "# puedes eliminar por completo estas reseñas y probar tus modelos en tus propias reseñas; las que se muestran a continuación son solo ejemplos\n",
    "\n",
    "my_reviews = pd.DataFrame([\n",
    "    'I did not simply like it, not my kind of movie.',\n",
    "    'Well, I was bored and felt asleep in the middle of the movie.',\n",
    "    'I was really fascinated with the movie',    \n",
    "    'Even the actors looked really old and disinterested, and they got paid to be in the movie. What a soulless cash grab.',\n",
    "    'I didn\\'t expect the reboot to be so good! Writers really cared about the source material',\n",
    "    'The movie had its upsides and downsides, but I feel like overall it\\'s a decent flick. I could see myself going to see it again.',\n",
    "    'What a rotten attempt at a comedy. Not a single joke lands, everyone acts annoying and loud, even kids won\\'t like this!',\n",
    "    'Launching on Netflix was a brave move & I really appreciate being able to binge on episode after episode, of this exciting intelligent new drama.'\n",
    "], columns=['review'])\n",
    "\n",
    "\"\"\"\n",
    "my_reviews = pd.DataFrame([\n",
    "    'Simplemente no me gustó, no es mi tipo de película.',\n",
    "    'Bueno, estaba aburrido y me quedé dormido a media película.',\n",
    "    'Estaba realmente fascinada con la película',    \n",
    "    'Hasta los actores parecían muy viejos y desinteresados, y les pagaron por estar en la película. Qué robo tan desalmado.',\n",
    "    '¡No esperaba que el relanzamiento fuera tan bueno! Los escritores realmente se preocuparon por el material original',\n",
    "    'La película tuvo sus altibajos, pero siento que, en general, es una película decente. Sí la volvería a ver',\n",
    "    'Qué pésimo intento de comedia. Ni una sola broma tiene sentido, todos actúan de forma irritante y ruidosa, ¡ni siquiera a los niños les gustará esto!',\n",
    "    'Fue muy valiente el lanzamiento en Netflix y realmente aprecio poder seguir viendo episodio tras episodio de este nuevo drama tan emocionante e inteligente.'\n",
    "], columns=['review'])\n",
    "\"\"\"\n",
    "\n",
    "my_reviews['review_norm'] =my_reviews['review'].apply(lambda x: text_preprocessing_3(x)) # <escribe aquí la misma lógica de normalización que para el conjunto de datos principal>\n",
    "\n",
    "my_reviews"
   ]
  },
  {
   "cell_type": "markdown",
   "metadata": {},
   "source": [
    "### Modelo 2"
   ]
  },
  {
   "cell_type": "code",
   "execution_count": 42,
   "metadata": {},
   "outputs": [
    {
     "name": "stdout",
     "output_type": "stream",
     "text": [
      "0.14:  I do not simply like it , not my kind of movie .\n",
      "0.27:  well , I be bored and feel asleep in the middle of the movie .\n",
      "0.54:  I be really fascinated with the movie\n",
      "0.16:  even the actor look really old and disinterested , and they get pay to be in the movie . what a soul\n",
      "0.28:  I do not expect the reboot to be so good ! writer really care about the source material\n",
      "0.55:  the movie have its upside and downside , but I feel like overall it be a decent flick . I could see \n",
      "0.03:  what a rotten attempt at a comedy . not a single joke land , everyone act annoying and loud , even k\n",
      "0.82:  launch on Netflix be a brave move & I really appreciate be able to binge on episode after episode , \n"
     ]
    }
   ],
   "source": [
    "texts = my_reviews['review_norm']\n",
    "\n",
    "my_reviews_pred_prob = model_1.predict_proba(tfid_vectorizer.transform(texts))[:, 1]\n",
    "\n",
    "for i, review in enumerate(texts.str.slice(0, 100)):\n",
    "    print(f'{my_reviews_pred_prob[i]:.2f}:  {review}')"
   ]
  },
  {
   "cell_type": "markdown",
   "metadata": {},
   "source": [
    "### Modelo 3"
   ]
  },
  {
   "cell_type": "code",
   "execution_count": 43,
   "metadata": {},
   "outputs": [
    {
     "name": "stdout",
     "output_type": "stream",
     "text": [
      "0.16:  I do not simply like it , not my kind of movie .\n",
      "0.20:  well , I be bored and feel asleep in the middle of the movie .\n",
      "0.49:  I be really fascinated with the movie\n",
      "0.14:  even the actor look really old and disinterested , and they get pay to be in the movie . what a soul\n",
      "0.19:  I do not expect the reboot to be so good ! writer really care about the source material\n",
      "0.68:  the movie have its upside and downside , but I feel like overall it be a decent flick . I could see \n",
      "0.04:  what a rotten attempt at a comedy . not a single joke land , everyone act annoying and loud , even k\n",
      "0.87:  launch on Netflix be a brave move & I really appreciate be able to binge on episode after episode , \n"
     ]
    }
   ],
   "source": [
    "texts = my_reviews['review_norm']\n",
    "\n",
    "my_reviews_pred_prob = model_3.predict_proba(tfidf_vectorizer_3.transform(texts.apply(lambda x: text_preprocessing_3(x))))[:, 1]\n",
    "\n",
    "for i, review in enumerate(texts.str.slice(0, 100)):\n",
    "    print(f'{my_reviews_pred_prob[i]:.2f}:  {review}')"
   ]
  },
  {
   "cell_type": "markdown",
   "metadata": {},
   "source": [
    "### Modelo 4"
   ]
  },
  {
   "cell_type": "code",
   "execution_count": 44,
   "metadata": {},
   "outputs": [
    {
     "name": "stdout",
     "output_type": "stream",
     "text": [
      "0.56:  I do not simply like it , not my kind of movie .\n",
      "0.43:  well , I be bored and feel asleep in the middle of the movie .\n",
      "0.60:  I be really fascinated with the movie\n",
      "0.57:  even the actor look really old and disinterested , and they get pay to be in the movie . what a soul\n",
      "0.47:  I do not expect the reboot to be so good ! writer really care about the source material\n",
      "0.81:  the movie have its upside and downside , but I feel like overall it be a decent flick . I could see \n",
      "0.22:  what a rotten attempt at a comedy . not a single joke land , everyone act annoying and loud , even k\n",
      "0.80:  launch on Netflix be a brave move & I really appreciate be able to binge on episode after episode , \n"
     ]
    }
   ],
   "source": [
    "texts = my_reviews['review_norm']\n",
    "\n",
    "tfidf_vectorizer_4 = tfidf_vectorizer_3\n",
    "my_reviews_pred_prob = model_4.predict_proba(tfidf_vectorizer_4.transform(texts.apply(lambda x: text_preprocessing_3(x))))[:, 1]\n",
    "\n",
    "for i, review in enumerate(texts.str.slice(0, 100)):\n",
    "    print(f'{my_reviews_pred_prob[i]:.2f}:  {review}')"
   ]
  },
  {
   "cell_type": "markdown",
   "metadata": {},
   "source": [
    "### Modelo 9"
   ]
  },
  {
   "cell_type": "code",
   "execution_count": null,
   "metadata": {},
   "outputs": [],
   "source": [
    "texts = my_reviews['review_norm']\n",
    "\n",
    "my_reviews_features_9 = BERT_text_to_embeddings(texts, disable_progress_bar=True)\n",
    "\n",
    "my_reviews_pred_prob = model_9.predict_proba(my_reviews_features_9)[:, 1]\n",
    "\n",
    "for i, review in enumerate(texts.str.slice(0, 100)):\n",
    "    print(f'{my_reviews_pred_prob[i]:.2f}:  {review}')"
   ]
  },
  {
   "cell_type": "markdown",
   "metadata": {},
   "source": [
    "## Conclusiones"
   ]
  },
  {
   "cell_type": "markdown",
   "metadata": {},
   "source": [
    "En este proyecto, se analizaron diferentes modelos de clasificación para predecir las reseñas de películas basándose en su polaridad (positiva o negativa).\n",
    "\n",
    "1. En el Modelo Base (Dummy Classifier):\n",
    "Este modelo nos sirvió como línea base para comparar los demás modelos.\n",
    "Obtuvo un desempeño esperado, con métricas cercanas al azar (50% en precisión, F1, APS y ROC-AUC).\n",
    "2. En el Modelo 1 se implento  TF-IDF y Regresión Logística y en este se obtuvo lo siguiente:\n",
    "Este mostró un avance significativo con un F1-score de `0.94`en entrenamiento y `0.88` en el conjunto de prueba.\n",
    "Este evidenció la efectividad de las características textuales procesadas con el modelo TF-IDF para la tarea de clasificación.\n",
    "3. En el Modelo 3 se implmento la herramienta spaCy, TF-IDF y Regresión Logística y en este se obtuvo lo siguiente:\n",
    "Al incluir lematización con spaCy, el modelo se mantuvo con métricas similares al modelo 1, con un F1-score de `0.93` en entrenamiento y `0.88` en prueba.\n",
    "Esto sugiere que el preprocesamiento avanzado (como la lematización) puede no aportar mejoras significativas en ciertos contextos.\n",
    "4. En el Modelo 4 se implento igual que el Modelo 3, o  sea se utilizo spaCy, TF-IDF, pero en su diferencia fue que se utilizó LGBMClassifier y se obtuvo lo siguiente:\n",
    "En este modelo se relizo la implementación de LightGBM. En el cual mostró un rendimiento competitivo con un F1-score de `0.92 en entrenamiento y 0.86 en prueba.\n",
    "Sin embargo, el modelo se quedó ligeramente por detrás de la regresión logística, posiblemente debido a la naturaleza del problema y los datos.\n",
    "En general, el modelo basado en TF-IDF y regresión logística (modelo 1) demostró ser el más eficiente y confiable en este caso. Esto refuerza la importancia de combinar un preprocesamiento adecuado con modelos simples pero efectivo"
   ]
  }
 ],
 "metadata": {
  "ExecuteTimeLog": [
   {
    "duration": 2790,
    "start_time": "2025-01-02T20:34:41.385Z"
   },
   {
    "duration": 10,
    "start_time": "2025-01-02T20:34:44.177Z"
   },
   {
    "duration": 4,
    "start_time": "2025-01-02T20:34:44.188Z"
   },
   {
    "duration": 695,
    "start_time": "2025-01-02T20:35:04.376Z"
   },
   {
    "duration": 2467,
    "start_time": "2025-01-03T15:41:04.905Z"
   },
   {
    "duration": 6,
    "start_time": "2025-01-03T15:41:07.375Z"
   },
   {
    "duration": 3,
    "start_time": "2025-01-03T15:41:07.383Z"
   },
   {
    "duration": 681,
    "start_time": "2025-01-03T15:41:07.388Z"
   },
   {
    "duration": 65,
    "start_time": "2025-01-03T15:41:32.070Z"
   },
   {
    "duration": 14,
    "start_time": "2025-01-03T15:42:00.277Z"
   },
   {
    "duration": 703,
    "start_time": "2025-01-03T16:07:58.990Z"
   },
   {
    "duration": 13,
    "start_time": "2025-01-03T16:08:28.844Z"
   },
   {
    "duration": 2,
    "start_time": "2025-01-03T16:08:33.391Z"
   },
   {
    "duration": 105,
    "start_time": "2025-01-03T16:08:34.046Z"
   },
   {
    "duration": 3,
    "start_time": "2025-01-03T16:09:02.385Z"
   },
   {
    "duration": 3,
    "start_time": "2025-01-03T16:09:20.725Z"
   },
   {
    "duration": 2258,
    "start_time": "2025-01-03T16:09:20.934Z"
   },
   {
    "duration": 22,
    "start_time": "2025-01-03T16:09:52.880Z"
   },
   {
    "duration": 4,
    "start_time": "2025-01-03T16:11:02.227Z"
   },
   {
    "duration": 9,
    "start_time": "2025-01-03T16:18:28.799Z"
   },
   {
    "duration": 555,
    "start_time": "2025-01-03T16:20:10.852Z"
   },
   {
    "duration": 5,
    "start_time": "2025-01-03T16:20:33.908Z"
   },
   {
    "duration": 570,
    "start_time": "2025-01-03T16:20:34.511Z"
   },
   {
    "duration": 6,
    "start_time": "2025-01-03T16:21:09.596Z"
   },
   {
    "duration": 549,
    "start_time": "2025-01-03T16:21:09.972Z"
   },
   {
    "duration": 157,
    "start_time": "2025-01-03T16:22:15.685Z"
   },
   {
    "duration": 4,
    "start_time": "2025-01-03T16:22:30.252Z"
   },
   {
    "duration": 524,
    "start_time": "2025-01-03T16:22:34.297Z"
   },
   {
    "duration": 5,
    "start_time": "2025-01-03T16:23:19.270Z"
   },
   {
    "duration": 3,
    "start_time": "2025-01-03T16:25:52.605Z"
   },
   {
    "duration": 5,
    "start_time": "2025-01-03T16:25:53.368Z"
   },
   {
    "duration": 27,
    "start_time": "2025-01-03T16:25:54.019Z"
   },
   {
    "duration": 519,
    "start_time": "2025-01-03T16:26:05.343Z"
   },
   {
    "duration": 140,
    "start_time": "2025-01-03T16:26:43.306Z"
   },
   {
    "duration": 3031,
    "start_time": "2025-01-07T18:31:10.740Z"
   },
   {
    "duration": 7,
    "start_time": "2025-01-07T18:31:13.774Z"
   },
   {
    "duration": 3,
    "start_time": "2025-01-07T18:31:13.782Z"
   },
   {
    "duration": 701,
    "start_time": "2025-01-07T18:31:13.787Z"
   },
   {
    "duration": 80,
    "start_time": "2025-01-07T18:31:14.490Z"
   },
   {
    "duration": 13,
    "start_time": "2025-01-07T18:31:14.573Z"
   },
   {
    "duration": 2951,
    "start_time": "2025-01-07T18:31:14.589Z"
   },
   {
    "duration": 660,
    "start_time": "2025-01-07T18:31:17.542Z"
   },
   {
    "duration": 6,
    "start_time": "2025-01-07T18:31:18.204Z"
   },
   {
    "duration": 322,
    "start_time": "2025-01-07T18:31:18.213Z"
   },
   {
    "duration": 480,
    "start_time": "2025-01-07T20:36:07.263Z"
   },
   {
    "duration": 39,
    "start_time": "2025-01-07T20:36:38.088Z"
   },
   {
    "duration": 29,
    "start_time": "2025-01-07T20:36:38.414Z"
   },
   {
    "duration": 29,
    "start_time": "2025-01-07T20:39:49.933Z"
   },
   {
    "duration": 2,
    "start_time": "2025-01-07T20:39:59.876Z"
   },
   {
    "duration": 28,
    "start_time": "2025-01-07T20:40:00.535Z"
   },
   {
    "duration": 4266,
    "start_time": "2025-01-07T20:43:45.903Z"
   },
   {
    "duration": 4179,
    "start_time": "2025-01-07T20:44:20.957Z"
   },
   {
    "duration": 133,
    "start_time": "2025-01-07T20:45:53.255Z"
   },
   {
    "duration": 14,
    "start_time": "2025-01-07T20:45:53.516Z"
   },
   {
    "duration": 68,
    "start_time": "2025-01-07T20:46:13.046Z"
   },
   {
    "duration": 4472,
    "start_time": "2025-01-07T20:46:45.757Z"
   },
   {
    "duration": 19,
    "start_time": "2025-01-07T20:46:50.233Z"
   },
   {
    "duration": 15,
    "start_time": "2025-01-07T20:47:48.086Z"
   },
   {
    "duration": 4276,
    "start_time": "2025-01-07T20:47:51.970Z"
   },
   {
    "duration": 4479,
    "start_time": "2025-01-07T20:47:56.249Z"
   },
   {
    "duration": 710,
    "start_time": "2025-01-07T20:48:00.734Z"
   },
   {
    "duration": 2397,
    "start_time": "2025-01-07T21:05:13.350Z"
   },
   {
    "duration": 3,
    "start_time": "2025-01-07T21:05:15.749Z"
   },
   {
    "duration": 3017,
    "start_time": "2025-01-08T01:31:28.419Z"
   },
   {
    "duration": 7,
    "start_time": "2025-01-08T01:31:31.438Z"
   },
   {
    "duration": 3,
    "start_time": "2025-01-08T01:31:31.446Z"
   },
   {
    "duration": 848,
    "start_time": "2025-01-08T01:31:31.451Z"
   },
   {
    "duration": 72,
    "start_time": "2025-01-08T01:31:32.301Z"
   },
   {
    "duration": 19,
    "start_time": "2025-01-08T01:31:32.376Z"
   },
   {
    "duration": 3232,
    "start_time": "2025-01-08T01:31:34.495Z"
   },
   {
    "duration": 731,
    "start_time": "2025-01-08T01:31:37.729Z"
   },
   {
    "duration": 5,
    "start_time": "2025-01-08T01:31:38.462Z"
   },
   {
    "duration": 337,
    "start_time": "2025-01-08T01:31:38.469Z"
   },
   {
    "duration": 3886,
    "start_time": "2025-01-08T01:31:38.808Z"
   },
   {
    "duration": 256,
    "start_time": "2025-01-08T01:31:42.696Z"
   },
   {
    "duration": 3,
    "start_time": "2025-01-08T01:31:42.954Z"
   },
   {
    "duration": 2846,
    "start_time": "2025-01-08T01:31:43.749Z"
   },
   {
    "duration": 20,
    "start_time": "2025-01-08T01:31:47.665Z"
   },
   {
    "duration": 4,
    "start_time": "2025-01-08T01:31:49.204Z"
   },
   {
    "duration": 6,
    "start_time": "2025-01-08T01:31:51.509Z"
   },
   {
    "duration": 29,
    "start_time": "2025-01-08T01:31:52.214Z"
   },
   {
    "duration": 657,
    "start_time": "2025-01-08T01:31:53.037Z"
   },
   {
    "duration": 148,
    "start_time": "2025-01-08T01:31:55.036Z"
   },
   {
    "duration": 4767,
    "start_time": "2025-01-08T01:31:56.374Z"
   },
   {
    "duration": 2983,
    "start_time": "2025-01-08T01:32:01.143Z"
   },
   {
    "duration": 760,
    "start_time": "2025-01-08T01:32:04.129Z"
   },
   {
    "duration": 4802,
    "start_time": "2025-01-08T01:32:24.676Z"
   },
   {
    "duration": 844,
    "start_time": "2025-01-08T01:32:45.280Z"
   },
   {
    "duration": 7,
    "start_time": "2025-01-08T01:32:46.127Z"
   },
   {
    "duration": 3,
    "start_time": "2025-01-08T01:32:46.135Z"
   },
   {
    "duration": 678,
    "start_time": "2025-01-08T01:32:46.139Z"
   },
   {
    "duration": 68,
    "start_time": "2025-01-08T01:32:46.819Z"
   },
   {
    "duration": 16,
    "start_time": "2025-01-08T01:32:46.889Z"
   },
   {
    "duration": 3292,
    "start_time": "2025-01-08T01:32:46.907Z"
   },
   {
    "duration": 697,
    "start_time": "2025-01-08T01:32:50.201Z"
   },
   {
    "duration": 6,
    "start_time": "2025-01-08T01:32:50.899Z"
   },
   {
    "duration": 851,
    "start_time": "2025-01-08T01:32:56.973Z"
   },
   {
    "duration": 7,
    "start_time": "2025-01-08T01:32:57.826Z"
   },
   {
    "duration": 2,
    "start_time": "2025-01-08T01:32:57.879Z"
   },
   {
    "duration": 742,
    "start_time": "2025-01-08T01:32:58.772Z"
   },
   {
    "duration": 64,
    "start_time": "2025-01-08T01:32:59.517Z"
   },
   {
    "duration": 13,
    "start_time": "2025-01-08T01:32:59.714Z"
   },
   {
    "duration": 3324,
    "start_time": "2025-01-08T01:33:01.439Z"
   },
   {
    "duration": 676,
    "start_time": "2025-01-08T01:33:04.765Z"
   },
   {
    "duration": 5,
    "start_time": "2025-01-08T01:33:05.443Z"
   },
   {
    "duration": 426,
    "start_time": "2025-01-08T01:33:05.449Z"
   },
   {
    "duration": 4049,
    "start_time": "2025-01-08T01:33:05.877Z"
   },
   {
    "duration": 152,
    "start_time": "2025-01-08T01:33:09.928Z"
   },
   {
    "duration": 3,
    "start_time": "2025-01-08T01:33:10.082Z"
   },
   {
    "duration": 2855,
    "start_time": "2025-01-08T01:33:10.086Z"
   },
   {
    "duration": 20,
    "start_time": "2025-01-08T01:33:12.944Z"
   },
   {
    "duration": 4,
    "start_time": "2025-01-08T01:33:12.966Z"
   },
   {
    "duration": 6,
    "start_time": "2025-01-08T01:33:13.245Z"
   },
   {
    "duration": 43,
    "start_time": "2025-01-08T01:33:13.975Z"
   },
   {
    "duration": 628,
    "start_time": "2025-01-08T01:33:14.678Z"
   },
   {
    "duration": 247,
    "start_time": "2025-01-08T01:33:16.724Z"
   },
   {
    "duration": 4696,
    "start_time": "2025-01-08T01:33:17.785Z"
   },
   {
    "duration": 2339,
    "start_time": "2025-01-08T01:33:22.483Z"
   },
   {
    "duration": 730,
    "start_time": "2025-01-08T01:33:24.826Z"
   },
   {
    "duration": 2562,
    "start_time": "2025-01-08T01:33:45.501Z"
   },
   {
    "duration": 3,
    "start_time": "2025-01-08T01:33:48.065Z"
   },
   {
    "duration": 909,
    "start_time": "2025-01-08T01:41:12.063Z"
   },
   {
    "duration": 0,
    "start_time": "2025-01-08T01:41:12.974Z"
   },
   {
    "duration": 19,
    "start_time": "2025-01-08T01:41:13.353Z"
   },
   {
    "duration": 32,
    "start_time": "2025-01-08T01:41:17.791Z"
   },
   {
    "duration": 21,
    "start_time": "2025-01-08T01:41:18.562Z"
   },
   {
    "duration": 879,
    "start_time": "2025-01-08T01:50:36.240Z"
   },
   {
    "duration": 8,
    "start_time": "2025-01-08T01:50:37.121Z"
   },
   {
    "duration": 3,
    "start_time": "2025-01-08T01:50:37.130Z"
   },
   {
    "duration": 717,
    "start_time": "2025-01-08T01:50:37.135Z"
   },
   {
    "duration": 84,
    "start_time": "2025-01-08T01:50:37.854Z"
   },
   {
    "duration": 12,
    "start_time": "2025-01-08T01:50:37.940Z"
   },
   {
    "duration": 3224,
    "start_time": "2025-01-08T01:50:38.195Z"
   },
   {
    "duration": 699,
    "start_time": "2025-01-08T01:50:41.421Z"
   },
   {
    "duration": 5,
    "start_time": "2025-01-08T01:50:42.122Z"
   },
   {
    "duration": 394,
    "start_time": "2025-01-08T01:50:42.129Z"
   },
   {
    "duration": 4110,
    "start_time": "2025-01-08T01:50:42.525Z"
   },
   {
    "duration": 142,
    "start_time": "2025-01-08T01:50:46.637Z"
   },
   {
    "duration": 3,
    "start_time": "2025-01-08T01:50:46.782Z"
   },
   {
    "duration": 2837,
    "start_time": "2025-01-08T01:50:46.786Z"
   },
   {
    "duration": 20,
    "start_time": "2025-01-08T01:50:49.626Z"
   },
   {
    "duration": 4,
    "start_time": "2025-01-08T01:50:49.648Z"
   },
   {
    "duration": 5,
    "start_time": "2025-01-08T01:50:49.654Z"
   },
   {
    "duration": 64,
    "start_time": "2025-01-08T01:50:49.662Z"
   },
   {
    "duration": 609,
    "start_time": "2025-01-08T01:50:49.728Z"
   },
   {
    "duration": 257,
    "start_time": "2025-01-08T01:50:50.339Z"
   },
   {
    "duration": 4795,
    "start_time": "2025-01-08T01:50:50.598Z"
   },
   {
    "duration": 2494,
    "start_time": "2025-01-08T01:50:55.396Z"
   },
   {
    "duration": 781,
    "start_time": "2025-01-08T01:50:57.902Z"
   },
   {
    "duration": 2573,
    "start_time": "2025-01-08T01:50:58.684Z"
   },
   {
    "duration": 2,
    "start_time": "2025-01-08T01:51:01.259Z"
   },
   {
    "duration": 880,
    "start_time": "2025-01-08T01:57:28.694Z"
   },
   {
    "duration": 7,
    "start_time": "2025-01-08T01:57:29.576Z"
   },
   {
    "duration": 3,
    "start_time": "2025-01-08T01:57:29.585Z"
   },
   {
    "duration": 682,
    "start_time": "2025-01-08T01:57:29.591Z"
   },
   {
    "duration": 79,
    "start_time": "2025-01-08T01:57:30.274Z"
   },
   {
    "duration": 12,
    "start_time": "2025-01-08T01:57:30.355Z"
   },
   {
    "duration": 3297,
    "start_time": "2025-01-08T01:57:30.370Z"
   },
   {
    "duration": 652,
    "start_time": "2025-01-08T01:57:33.670Z"
   },
   {
    "duration": 5,
    "start_time": "2025-01-08T01:57:34.324Z"
   },
   {
    "duration": 401,
    "start_time": "2025-01-08T01:57:34.334Z"
   },
   {
    "duration": 3991,
    "start_time": "2025-01-08T01:57:34.737Z"
   },
   {
    "duration": 161,
    "start_time": "2025-01-08T01:57:38.729Z"
   },
   {
    "duration": 7,
    "start_time": "2025-01-08T01:57:38.892Z"
   },
   {
    "duration": 2868,
    "start_time": "2025-01-08T01:57:38.902Z"
   },
   {
    "duration": 26,
    "start_time": "2025-01-08T01:57:41.772Z"
   },
   {
    "duration": 4,
    "start_time": "2025-01-08T01:57:41.800Z"
   },
   {
    "duration": 7,
    "start_time": "2025-01-08T01:57:41.806Z"
   },
   {
    "duration": 31,
    "start_time": "2025-01-08T01:57:41.815Z"
   },
   {
    "duration": 617,
    "start_time": "2025-01-08T01:57:41.848Z"
   },
   {
    "duration": 261,
    "start_time": "2025-01-08T01:57:42.466Z"
   },
   {
    "duration": 4738,
    "start_time": "2025-01-08T01:57:42.729Z"
   },
   {
    "duration": 2664,
    "start_time": "2025-01-08T01:57:47.470Z"
   },
   {
    "duration": 714,
    "start_time": "2025-01-08T01:57:50.192Z"
   },
   {
    "duration": 2473,
    "start_time": "2025-01-08T01:57:50.908Z"
   },
   {
    "duration": 7,
    "start_time": "2025-01-08T01:57:53.383Z"
   },
   {
    "duration": 854,
    "start_time": "2025-01-08T03:29:04.235Z"
   },
   {
    "duration": 5,
    "start_time": "2025-01-08T03:29:05.091Z"
   },
   {
    "duration": 4,
    "start_time": "2025-01-08T03:29:05.098Z"
   },
   {
    "duration": 643,
    "start_time": "2025-01-08T03:29:05.105Z"
   },
   {
    "duration": 74,
    "start_time": "2025-01-08T03:29:05.751Z"
   },
   {
    "duration": 17,
    "start_time": "2025-01-08T03:29:05.827Z"
   },
   {
    "duration": 2809,
    "start_time": "2025-01-08T03:29:05.845Z"
   },
   {
    "duration": 695,
    "start_time": "2025-01-08T03:29:08.656Z"
   },
   {
    "duration": 6,
    "start_time": "2025-01-08T03:29:09.352Z"
   },
   {
    "duration": 356,
    "start_time": "2025-01-08T03:29:09.361Z"
   },
   {
    "duration": 3591,
    "start_time": "2025-01-08T03:29:09.724Z"
   },
   {
    "duration": 62,
    "start_time": "2025-01-08T03:29:13.317Z"
   },
   {
    "duration": 2,
    "start_time": "2025-01-08T03:29:13.381Z"
   },
   {
    "duration": 2372,
    "start_time": "2025-01-08T03:29:13.384Z"
   },
   {
    "duration": 19,
    "start_time": "2025-01-08T03:29:15.757Z"
   },
   {
    "duration": 5,
    "start_time": "2025-01-08T03:29:15.778Z"
   },
   {
    "duration": 6,
    "start_time": "2025-01-08T03:29:15.785Z"
   },
   {
    "duration": 44,
    "start_time": "2025-01-08T03:29:15.792Z"
   },
   {
    "duration": 521,
    "start_time": "2025-01-08T03:29:15.838Z"
   },
   {
    "duration": 296,
    "start_time": "2025-01-08T03:29:16.361Z"
   },
   {
    "duration": 400,
    "start_time": "2025-01-08T03:29:16.660Z"
   },
   {
    "duration": 0,
    "start_time": "2025-01-08T03:29:17.063Z"
   },
   {
    "duration": 0,
    "start_time": "2025-01-08T03:29:17.064Z"
   },
   {
    "duration": 0,
    "start_time": "2025-01-08T03:29:17.066Z"
   },
   {
    "duration": 0,
    "start_time": "2025-01-08T03:29:17.067Z"
   },
   {
    "duration": 0,
    "start_time": "2025-01-08T03:29:17.068Z"
   },
   {
    "duration": 0,
    "start_time": "2025-01-08T03:29:17.070Z"
   },
   {
    "duration": 0,
    "start_time": "2025-01-08T03:29:17.071Z"
   },
   {
    "duration": 0,
    "start_time": "2025-01-08T03:29:17.073Z"
   },
   {
    "duration": 0,
    "start_time": "2025-01-08T03:29:17.074Z"
   },
   {
    "duration": 0,
    "start_time": "2025-01-08T03:29:17.075Z"
   },
   {
    "duration": 0,
    "start_time": "2025-01-08T03:29:17.077Z"
   },
   {
    "duration": 0,
    "start_time": "2025-01-08T03:29:17.078Z"
   },
   {
    "duration": 0,
    "start_time": "2025-01-08T03:29:17.080Z"
   },
   {
    "duration": 0,
    "start_time": "2025-01-08T03:29:17.081Z"
   },
   {
    "duration": 15,
    "start_time": "2025-01-08T03:29:17.304Z"
   },
   {
    "duration": 14,
    "start_time": "2025-01-08T03:29:30.320Z"
   },
   {
    "duration": 13,
    "start_time": "2025-01-08T03:29:30.777Z"
   },
   {
    "duration": 9,
    "start_time": "2025-01-08T03:29:34.888Z"
   },
   {
    "duration": 16,
    "start_time": "2025-01-08T03:29:35.639Z"
   },
   {
    "duration": 15,
    "start_time": "2025-01-08T03:29:36.374Z"
   },
   {
    "duration": 15,
    "start_time": "2025-01-08T03:29:36.938Z"
   },
   {
    "duration": 15,
    "start_time": "2025-01-08T03:29:37.763Z"
   },
   {
    "duration": 12,
    "start_time": "2025-01-08T03:39:41.531Z"
   },
   {
    "duration": 34,
    "start_time": "2025-01-08T03:45:28.723Z"
   },
   {
    "duration": 5112,
    "start_time": "2025-01-08T03:45:46.867Z"
   },
   {
    "duration": 1442,
    "start_time": "2025-01-08T03:45:53.489Z"
   },
   {
    "duration": 598,
    "start_time": "2025-01-08T03:45:54.935Z"
   },
   {
    "duration": 2285,
    "start_time": "2025-01-08T03:46:00.125Z"
   },
   {
    "duration": 3,
    "start_time": "2025-01-08T03:46:02.413Z"
   },
   {
    "duration": 2614,
    "start_time": "2025-01-08T14:29:02.655Z"
   },
   {
    "duration": 6,
    "start_time": "2025-01-08T14:29:05.272Z"
   },
   {
    "duration": 3,
    "start_time": "2025-01-08T14:29:05.280Z"
   },
   {
    "duration": 669,
    "start_time": "2025-01-08T14:29:05.285Z"
   },
   {
    "duration": 74,
    "start_time": "2025-01-08T14:29:05.958Z"
   },
   {
    "duration": 13,
    "start_time": "2025-01-08T14:29:06.034Z"
   },
   {
    "duration": 2943,
    "start_time": "2025-01-08T14:29:06.049Z"
   },
   {
    "duration": 676,
    "start_time": "2025-01-08T14:29:08.994Z"
   },
   {
    "duration": 7,
    "start_time": "2025-01-08T14:29:09.672Z"
   },
   {
    "duration": 325,
    "start_time": "2025-01-08T14:29:09.681Z"
   },
   {
    "duration": 3635,
    "start_time": "2025-01-08T14:29:10.008Z"
   },
   {
    "duration": 235,
    "start_time": "2025-01-08T14:29:13.645Z"
   },
   {
    "duration": 3,
    "start_time": "2025-01-08T14:29:13.882Z"
   },
   {
    "duration": 2331,
    "start_time": "2025-01-08T14:29:13.889Z"
   },
   {
    "duration": 25,
    "start_time": "2025-01-08T14:29:16.222Z"
   },
   {
    "duration": 4,
    "start_time": "2025-01-08T14:29:16.249Z"
   },
   {
    "duration": 5,
    "start_time": "2025-01-08T14:29:16.255Z"
   },
   {
    "duration": 27,
    "start_time": "2025-01-08T14:29:16.262Z"
   },
   {
    "duration": 568,
    "start_time": "2025-01-08T14:29:16.291Z"
   },
   {
    "duration": 140,
    "start_time": "2025-01-08T14:29:16.861Z"
   },
   {
    "duration": 4080,
    "start_time": "2025-01-08T14:29:17.003Z"
   },
   {
    "duration": 2546,
    "start_time": "2025-01-08T14:29:21.085Z"
   },
   {
    "duration": 642,
    "start_time": "2025-01-08T14:29:23.633Z"
   },
   {
    "duration": 2273,
    "start_time": "2025-01-08T14:29:24.277Z"
   },
   {
    "duration": 3,
    "start_time": "2025-01-08T14:29:26.551Z"
   },
   {
    "duration": 431000,
    "start_time": "2025-01-08T14:29:26.556Z"
   },
   {
    "duration": 0,
    "start_time": "2025-01-08T14:36:37.559Z"
   },
   {
    "duration": 0,
    "start_time": "2025-01-08T14:36:37.560Z"
   },
   {
    "duration": 0,
    "start_time": "2025-01-08T14:36:37.562Z"
   },
   {
    "duration": 0,
    "start_time": "2025-01-08T14:36:37.564Z"
   },
   {
    "duration": 0,
    "start_time": "2025-01-08T14:36:37.565Z"
   },
   {
    "duration": 0,
    "start_time": "2025-01-08T14:36:37.567Z"
   },
   {
    "duration": 0,
    "start_time": "2025-01-08T14:36:37.568Z"
   },
   {
    "duration": 0,
    "start_time": "2025-01-08T14:36:37.570Z"
   },
   {
    "duration": 0,
    "start_time": "2025-01-08T14:36:37.571Z"
   },
   {
    "duration": 0,
    "start_time": "2025-01-08T14:36:37.573Z"
   },
   {
    "duration": 0,
    "start_time": "2025-01-08T14:36:37.574Z"
   },
   {
    "duration": 0,
    "start_time": "2025-01-08T14:36:37.576Z"
   },
   {
    "duration": 0,
    "start_time": "2025-01-08T14:36:37.578Z"
   },
   {
    "duration": 0,
    "start_time": "2025-01-08T14:36:37.579Z"
   },
   {
    "duration": 0,
    "start_time": "2025-01-08T14:36:37.580Z"
   },
   {
    "duration": 0,
    "start_time": "2025-01-08T14:36:37.581Z"
   },
   {
    "duration": 2854,
    "start_time": "2025-01-08T15:22:04.585Z"
   },
   {
    "duration": 6,
    "start_time": "2025-01-08T15:22:07.441Z"
   },
   {
    "duration": 2,
    "start_time": "2025-01-08T15:22:07.449Z"
   },
   {
    "duration": 806,
    "start_time": "2025-01-08T15:22:07.454Z"
   },
   {
    "duration": 78,
    "start_time": "2025-01-08T15:22:08.262Z"
   },
   {
    "duration": 12,
    "start_time": "2025-01-08T15:22:08.342Z"
   },
   {
    "duration": 3100,
    "start_time": "2025-01-08T15:22:08.356Z"
   },
   {
    "duration": 693,
    "start_time": "2025-01-08T15:22:11.460Z"
   },
   {
    "duration": 5,
    "start_time": "2025-01-08T15:22:12.155Z"
   },
   {
    "duration": 344,
    "start_time": "2025-01-08T15:22:12.161Z"
   },
   {
    "duration": 3928,
    "start_time": "2025-01-08T15:22:12.508Z"
   },
   {
    "duration": 255,
    "start_time": "2025-01-08T15:22:16.439Z"
   },
   {
    "duration": 3,
    "start_time": "2025-01-08T15:22:16.696Z"
   },
   {
    "duration": 2838,
    "start_time": "2025-01-08T15:22:16.700Z"
   },
   {
    "duration": 21,
    "start_time": "2025-01-08T15:22:19.540Z"
   },
   {
    "duration": 3,
    "start_time": "2025-01-08T15:22:19.564Z"
   },
   {
    "duration": 22,
    "start_time": "2025-01-08T15:22:19.569Z"
   },
   {
    "duration": 40,
    "start_time": "2025-01-08T15:22:19.593Z"
   },
   {
    "duration": 635,
    "start_time": "2025-01-08T15:22:19.635Z"
   },
   {
    "duration": 154,
    "start_time": "2025-01-08T15:22:21.952Z"
   },
   {
    "duration": 4786,
    "start_time": "2025-01-08T15:22:22.930Z"
   },
   {
    "duration": 3430,
    "start_time": "2025-01-08T15:22:35.191Z"
   },
   {
    "duration": 749,
    "start_time": "2025-01-08T15:22:38.630Z"
   },
   {
    "duration": 2434,
    "start_time": "2025-01-08T15:22:39.380Z"
   },
   {
    "duration": 3,
    "start_time": "2025-01-08T15:22:42.527Z"
   },
   {
    "duration": 853,
    "start_time": "2025-01-08T15:25:03.601Z"
   },
   {
    "duration": 7,
    "start_time": "2025-01-08T15:25:04.457Z"
   },
   {
    "duration": 3,
    "start_time": "2025-01-08T15:25:04.465Z"
   },
   {
    "duration": 708,
    "start_time": "2025-01-08T15:25:04.470Z"
   },
   {
    "duration": 69,
    "start_time": "2025-01-08T15:25:05.182Z"
   },
   {
    "duration": 12,
    "start_time": "2025-01-08T15:25:05.253Z"
   },
   {
    "duration": 3116,
    "start_time": "2025-01-08T15:25:05.267Z"
   },
   {
    "duration": 667,
    "start_time": "2025-01-08T15:25:08.385Z"
   },
   {
    "duration": 6,
    "start_time": "2025-01-08T15:25:09.053Z"
   },
   {
    "duration": 418,
    "start_time": "2025-01-08T15:25:09.060Z"
   },
   {
    "duration": 3914,
    "start_time": "2025-01-08T15:25:09.486Z"
   },
   {
    "duration": 156,
    "start_time": "2025-01-08T15:25:13.402Z"
   },
   {
    "duration": 3,
    "start_time": "2025-01-08T15:25:13.560Z"
   },
   {
    "duration": 2774,
    "start_time": "2025-01-08T15:25:13.568Z"
   },
   {
    "duration": 21,
    "start_time": "2025-01-08T15:25:16.344Z"
   },
   {
    "duration": 4,
    "start_time": "2025-01-08T15:25:16.367Z"
   },
   {
    "duration": 18,
    "start_time": "2025-01-08T15:25:16.372Z"
   },
   {
    "duration": 42,
    "start_time": "2025-01-08T15:25:16.391Z"
   },
   {
    "duration": 642,
    "start_time": "2025-01-08T15:25:16.435Z"
   },
   {
    "duration": 257,
    "start_time": "2025-01-08T15:25:17.079Z"
   },
   {
    "duration": 4740,
    "start_time": "2025-01-08T15:25:17.337Z"
   },
   {
    "duration": 3635,
    "start_time": "2025-01-08T15:25:22.079Z"
   },
   {
    "duration": 738,
    "start_time": "2025-01-08T15:25:25.720Z"
   },
   {
    "duration": 2420,
    "start_time": "2025-01-08T15:25:26.460Z"
   },
   {
    "duration": 3,
    "start_time": "2025-01-08T15:25:28.882Z"
   },
   {
    "duration": 888,
    "start_time": "2025-01-08T15:27:29.643Z"
   },
   {
    "duration": 7,
    "start_time": "2025-01-08T15:27:30.533Z"
   },
   {
    "duration": 3,
    "start_time": "2025-01-08T15:27:30.793Z"
   },
   {
    "duration": 706,
    "start_time": "2025-01-08T15:27:31.768Z"
   },
   {
    "duration": 88,
    "start_time": "2025-01-08T15:27:32.477Z"
   },
   {
    "duration": 12,
    "start_time": "2025-01-08T15:27:32.656Z"
   },
   {
    "duration": 3065,
    "start_time": "2025-01-08T15:27:34.454Z"
   },
   {
    "duration": 679,
    "start_time": "2025-01-08T15:27:37.521Z"
   },
   {
    "duration": 8,
    "start_time": "2025-01-08T15:27:38.202Z"
   },
   {
    "duration": 399,
    "start_time": "2025-01-08T15:27:38.213Z"
   },
   {
    "duration": 3789,
    "start_time": "2025-01-08T15:27:38.616Z"
   },
   {
    "duration": 150,
    "start_time": "2025-01-08T15:27:42.408Z"
   },
   {
    "duration": 3,
    "start_time": "2025-01-08T15:27:42.559Z"
   },
   {
    "duration": 2736,
    "start_time": "2025-01-08T15:27:42.564Z"
   },
   {
    "duration": 24,
    "start_time": "2025-01-08T15:27:45.302Z"
   },
   {
    "duration": 4,
    "start_time": "2025-01-08T15:27:45.328Z"
   },
   {
    "duration": 9,
    "start_time": "2025-01-08T15:27:45.333Z"
   },
   {
    "duration": 60,
    "start_time": "2025-01-08T15:27:45.343Z"
   },
   {
    "duration": 631,
    "start_time": "2025-01-08T15:27:45.406Z"
   },
   {
    "duration": 243,
    "start_time": "2025-01-08T15:27:46.038Z"
   },
   {
    "duration": 4791,
    "start_time": "2025-01-08T15:27:46.284Z"
   },
   {
    "duration": 3138,
    "start_time": "2025-01-08T15:27:51.087Z"
   },
   {
    "duration": 686,
    "start_time": "2025-01-08T15:27:54.288Z"
   },
   {
    "duration": 2451,
    "start_time": "2025-01-08T15:27:54.977Z"
   },
   {
    "duration": 3,
    "start_time": "2025-01-08T15:27:57.431Z"
   },
   {
    "duration": 979,
    "start_time": "2025-01-08T15:32:55.396Z"
   },
   {
    "duration": 7,
    "start_time": "2025-01-08T15:32:56.376Z"
   },
   {
    "duration": 13,
    "start_time": "2025-01-08T15:32:56.384Z"
   },
   {
    "duration": 748,
    "start_time": "2025-01-08T15:32:56.404Z"
   },
   {
    "duration": 77,
    "start_time": "2025-01-08T15:32:57.154Z"
   },
   {
    "duration": 15,
    "start_time": "2025-01-08T15:32:57.233Z"
   },
   {
    "duration": 3297,
    "start_time": "2025-01-08T15:32:57.250Z"
   },
   {
    "duration": 769,
    "start_time": "2025-01-08T15:33:00.548Z"
   },
   {
    "duration": 7,
    "start_time": "2025-01-08T15:33:01.330Z"
   },
   {
    "duration": 451,
    "start_time": "2025-01-08T15:33:01.339Z"
   },
   {
    "duration": 4325,
    "start_time": "2025-01-08T15:33:01.795Z"
   },
   {
    "duration": 199,
    "start_time": "2025-01-08T15:33:06.124Z"
   },
   {
    "duration": 6,
    "start_time": "2025-01-08T15:33:06.325Z"
   },
   {
    "duration": 3042,
    "start_time": "2025-01-08T15:33:06.336Z"
   },
   {
    "duration": 48,
    "start_time": "2025-01-08T15:33:09.380Z"
   },
   {
    "duration": 5,
    "start_time": "2025-01-08T15:33:09.430Z"
   },
   {
    "duration": 5,
    "start_time": "2025-01-08T15:33:09.437Z"
   },
   {
    "duration": 31,
    "start_time": "2025-01-08T15:33:09.443Z"
   },
   {
    "duration": 670,
    "start_time": "2025-01-08T15:33:09.476Z"
   },
   {
    "duration": 261,
    "start_time": "2025-01-08T15:33:10.148Z"
   },
   {
    "duration": 5228,
    "start_time": "2025-01-08T15:33:10.420Z"
   },
   {
    "duration": 3544,
    "start_time": "2025-01-08T15:33:15.650Z"
   },
   {
    "duration": 815,
    "start_time": "2025-01-08T15:33:19.210Z"
   },
   {
    "duration": 2841,
    "start_time": "2025-01-08T15:33:20.026Z"
   },
   {
    "duration": 3,
    "start_time": "2025-01-08T15:33:22.869Z"
   },
   {
    "duration": 922,
    "start_time": "2025-01-08T15:35:34.135Z"
   },
   {
    "duration": 10,
    "start_time": "2025-01-08T15:35:35.059Z"
   },
   {
    "duration": 3,
    "start_time": "2025-01-08T15:35:35.071Z"
   },
   {
    "duration": 795,
    "start_time": "2025-01-08T15:35:35.078Z"
   },
   {
    "duration": 87,
    "start_time": "2025-01-08T15:35:35.877Z"
   },
   {
    "duration": 13,
    "start_time": "2025-01-08T15:35:35.966Z"
   },
   {
    "duration": 3199,
    "start_time": "2025-01-08T15:35:35.980Z"
   },
   {
    "duration": 618,
    "start_time": "2025-01-08T15:35:39.181Z"
   },
   {
    "duration": 9,
    "start_time": "2025-01-08T15:35:39.803Z"
   },
   {
    "duration": 358,
    "start_time": "2025-01-08T15:35:39.816Z"
   },
   {
    "duration": 4218,
    "start_time": "2025-01-08T15:35:40.176Z"
   },
   {
    "duration": 149,
    "start_time": "2025-01-08T15:35:44.396Z"
   },
   {
    "duration": 3,
    "start_time": "2025-01-08T15:35:44.546Z"
   },
   {
    "duration": 2829,
    "start_time": "2025-01-08T15:35:44.554Z"
   },
   {
    "duration": 35,
    "start_time": "2025-01-08T15:35:47.386Z"
   },
   {
    "duration": 4,
    "start_time": "2025-01-08T15:35:47.423Z"
   },
   {
    "duration": 5,
    "start_time": "2025-01-08T15:35:47.429Z"
   },
   {
    "duration": 27,
    "start_time": "2025-01-08T15:35:47.435Z"
   },
   {
    "duration": 618,
    "start_time": "2025-01-08T15:35:47.463Z"
   },
   {
    "duration": 280,
    "start_time": "2025-01-08T15:35:48.083Z"
   },
   {
    "duration": 4704,
    "start_time": "2025-01-08T15:35:48.364Z"
   },
   {
    "duration": 3063,
    "start_time": "2025-01-08T15:35:53.070Z"
   },
   {
    "duration": 758,
    "start_time": "2025-01-08T15:35:56.136Z"
   },
   {
    "duration": 2428,
    "start_time": "2025-01-08T15:35:56.897Z"
   },
   {
    "duration": 4,
    "start_time": "2025-01-08T15:35:59.327Z"
   },
   {
    "duration": 481638,
    "start_time": "2025-01-08T15:35:59.333Z"
   },
   {
    "duration": 0,
    "start_time": "2025-01-08T15:44:00.974Z"
   },
   {
    "duration": 0,
    "start_time": "2025-01-08T15:44:00.975Z"
   },
   {
    "duration": 0,
    "start_time": "2025-01-08T15:44:00.976Z"
   },
   {
    "duration": 0,
    "start_time": "2025-01-08T15:44:00.987Z"
   },
   {
    "duration": 0,
    "start_time": "2025-01-08T15:44:00.988Z"
   },
   {
    "duration": 0,
    "start_time": "2025-01-08T15:44:00.989Z"
   },
   {
    "duration": 0,
    "start_time": "2025-01-08T15:44:00.991Z"
   },
   {
    "duration": 0,
    "start_time": "2025-01-08T15:44:00.992Z"
   },
   {
    "duration": 0,
    "start_time": "2025-01-08T15:44:00.994Z"
   },
   {
    "duration": 0,
    "start_time": "2025-01-08T15:44:00.996Z"
   },
   {
    "duration": 0,
    "start_time": "2025-01-08T15:44:00.998Z"
   },
   {
    "duration": 0,
    "start_time": "2025-01-08T15:44:01.001Z"
   },
   {
    "duration": 0,
    "start_time": "2025-01-08T15:44:01.003Z"
   },
   {
    "duration": 0,
    "start_time": "2025-01-08T15:44:01.004Z"
   },
   {
    "duration": 0,
    "start_time": "2025-01-08T15:44:01.005Z"
   },
   {
    "duration": 0,
    "start_time": "2025-01-08T15:44:01.008Z"
   },
   {
    "duration": 4783,
    "start_time": "2025-01-08T15:46:03.971Z"
   },
   {
    "duration": 3343,
    "start_time": "2025-01-08T15:46:08.756Z"
   },
   {
    "duration": 748,
    "start_time": "2025-01-08T15:46:12.103Z"
   },
   {
    "duration": 386,
    "start_time": "2025-01-08T15:46:12.853Z"
   },
   {
    "duration": 4,
    "start_time": "2025-01-08T15:46:13.241Z"
   },
   {
    "duration": 863,
    "start_time": "2025-01-08T15:49:12.165Z"
   },
   {
    "duration": 8,
    "start_time": "2025-01-08T15:49:13.030Z"
   },
   {
    "duration": 3,
    "start_time": "2025-01-08T15:49:13.040Z"
   },
   {
    "duration": 728,
    "start_time": "2025-01-08T15:49:13.045Z"
   },
   {
    "duration": 78,
    "start_time": "2025-01-08T15:49:13.775Z"
   },
   {
    "duration": 13,
    "start_time": "2025-01-08T15:49:13.855Z"
   },
   {
    "duration": 3124,
    "start_time": "2025-01-08T15:49:13.869Z"
   },
   {
    "duration": 692,
    "start_time": "2025-01-08T15:49:16.995Z"
   },
   {
    "duration": 6,
    "start_time": "2025-01-08T15:49:17.689Z"
   },
   {
    "duration": 392,
    "start_time": "2025-01-08T15:49:17.696Z"
   },
   {
    "duration": 3978,
    "start_time": "2025-01-08T15:49:18.089Z"
   },
   {
    "duration": 166,
    "start_time": "2025-01-08T15:49:22.069Z"
   },
   {
    "duration": 3,
    "start_time": "2025-01-08T15:49:22.236Z"
   },
   {
    "duration": 2766,
    "start_time": "2025-01-08T15:49:22.243Z"
   },
   {
    "duration": 24,
    "start_time": "2025-01-08T15:49:25.011Z"
   },
   {
    "duration": 4,
    "start_time": "2025-01-08T15:49:25.036Z"
   },
   {
    "duration": 5,
    "start_time": "2025-01-08T15:49:25.042Z"
   },
   {
    "duration": 66,
    "start_time": "2025-01-08T15:49:25.048Z"
   },
   {
    "duration": 615,
    "start_time": "2025-01-08T15:49:25.117Z"
   },
   {
    "duration": 279,
    "start_time": "2025-01-08T15:49:25.734Z"
   },
   {
    "duration": 4679,
    "start_time": "2025-01-08T15:49:26.016Z"
   },
   {
    "duration": 3822,
    "start_time": "2025-01-08T15:49:30.696Z"
   },
   {
    "duration": 726,
    "start_time": "2025-01-08T15:49:34.528Z"
   },
   {
    "duration": 2435,
    "start_time": "2025-01-08T15:49:35.256Z"
   },
   {
    "duration": 3,
    "start_time": "2025-01-08T15:49:37.693Z"
   },
   {
    "duration": 957,
    "start_time": "2025-01-08T15:53:55.775Z"
   },
   {
    "duration": 7,
    "start_time": "2025-01-08T15:53:56.735Z"
   },
   {
    "duration": 3,
    "start_time": "2025-01-08T15:53:56.744Z"
   },
   {
    "duration": 725,
    "start_time": "2025-01-08T15:53:56.749Z"
   },
   {
    "duration": 84,
    "start_time": "2025-01-08T15:53:57.477Z"
   },
   {
    "duration": 14,
    "start_time": "2025-01-08T15:53:57.563Z"
   },
   {
    "duration": 3256,
    "start_time": "2025-01-08T15:53:57.579Z"
   },
   {
    "duration": 694,
    "start_time": "2025-01-08T15:54:00.838Z"
   },
   {
    "duration": 6,
    "start_time": "2025-01-08T15:54:01.535Z"
   },
   {
    "duration": 396,
    "start_time": "2025-01-08T15:54:01.542Z"
   },
   {
    "duration": 4048,
    "start_time": "2025-01-08T15:54:01.940Z"
   },
   {
    "duration": 155,
    "start_time": "2025-01-08T15:54:05.995Z"
   },
   {
    "duration": 3,
    "start_time": "2025-01-08T15:54:06.151Z"
   },
   {
    "duration": 2797,
    "start_time": "2025-01-08T15:54:06.156Z"
   },
   {
    "duration": 33,
    "start_time": "2025-01-08T15:54:08.955Z"
   },
   {
    "duration": 4,
    "start_time": "2025-01-08T15:54:08.990Z"
   },
   {
    "duration": 6,
    "start_time": "2025-01-08T15:54:08.996Z"
   },
   {
    "duration": 36,
    "start_time": "2025-01-08T15:54:09.004Z"
   },
   {
    "duration": 669,
    "start_time": "2025-01-08T15:54:09.042Z"
   },
   {
    "duration": 270,
    "start_time": "2025-01-08T15:54:10.892Z"
   },
   {
    "duration": 5060,
    "start_time": "2025-01-08T15:54:11.164Z"
   },
   {
    "duration": 3272,
    "start_time": "2025-01-08T15:54:16.226Z"
   },
   {
    "duration": 827,
    "start_time": "2025-01-08T15:54:19.502Z"
   },
   {
    "duration": 2631,
    "start_time": "2025-01-08T15:54:30.284Z"
   },
   {
    "duration": 2,
    "start_time": "2025-01-08T15:54:33.837Z"
   },
   {
    "duration": 191,
    "start_time": "2025-01-08T15:54:40.240Z"
   },
   {
    "duration": 1790,
    "start_time": "2025-01-08T15:54:41.049Z"
   },
   {
    "duration": 6,
    "start_time": "2025-01-08T15:54:42.841Z"
   },
   {
    "duration": 7,
    "start_time": "2025-01-08T15:54:58.110Z"
   },
   {
    "duration": 627,
    "start_time": "2025-01-08T15:55:05.063Z"
   },
   {
    "duration": 6,
    "start_time": "2025-01-08T15:56:36.157Z"
   },
   {
    "duration": 82806,
    "start_time": "2025-01-08T15:56:36.751Z"
   },
   {
    "duration": 0,
    "start_time": "2025-01-08T15:57:59.559Z"
   },
   {
    "duration": 31,
    "start_time": "2025-01-08T16:03:01.675Z"
   },
   {
    "duration": 3,
    "start_time": "2025-01-08T16:04:11.123Z"
   },
   {
    "duration": 80722,
    "start_time": "2025-01-08T16:04:32.512Z"
   },
   {
    "duration": 0,
    "start_time": "2025-01-08T16:05:53.236Z"
   },
   {
    "duration": 0,
    "start_time": "2025-01-08T16:05:53.237Z"
   },
   {
    "duration": 6,
    "start_time": "2025-01-08T16:09:32.951Z"
   },
   {
    "duration": 5,
    "start_time": "2025-01-08T16:09:34.003Z"
   },
   {
    "duration": 80272,
    "start_time": "2025-01-08T16:09:34.774Z"
   },
   {
    "duration": 6,
    "start_time": "2025-01-08T16:13:48.060Z"
   },
   {
    "duration": 4,
    "start_time": "2025-01-08T16:13:48.797Z"
   },
   {
    "duration": 81915,
    "start_time": "2025-01-08T16:13:49.752Z"
   },
   {
    "duration": 8,
    "start_time": "2025-01-08T16:20:36.207Z"
   },
   {
    "duration": 3,
    "start_time": "2025-01-08T16:20:36.447Z"
   },
   {
    "duration": 204,
    "start_time": "2025-01-08T16:46:53.273Z"
   },
   {
    "duration": 858,
    "start_time": "2025-01-08T16:47:03.879Z"
   },
   {
    "duration": 7,
    "start_time": "2025-01-08T16:47:04.739Z"
   },
   {
    "duration": 3,
    "start_time": "2025-01-08T16:47:04.747Z"
   },
   {
    "duration": 764,
    "start_time": "2025-01-08T16:47:04.752Z"
   },
   {
    "duration": 69,
    "start_time": "2025-01-08T16:47:05.518Z"
   },
   {
    "duration": 24,
    "start_time": "2025-01-08T16:47:05.588Z"
   },
   {
    "duration": 3146,
    "start_time": "2025-01-08T16:47:05.765Z"
   },
   {
    "duration": 651,
    "start_time": "2025-01-08T16:47:08.912Z"
   },
   {
    "duration": 6,
    "start_time": "2025-01-08T16:47:09.565Z"
   },
   {
    "duration": 404,
    "start_time": "2025-01-08T16:47:09.574Z"
   },
   {
    "duration": 3972,
    "start_time": "2025-01-08T16:47:09.980Z"
   },
   {
    "duration": 165,
    "start_time": "2025-01-08T16:47:13.954Z"
   },
   {
    "duration": 3,
    "start_time": "2025-01-08T16:47:14.122Z"
   },
   {
    "duration": 2752,
    "start_time": "2025-01-08T16:47:14.127Z"
   },
   {
    "duration": 33,
    "start_time": "2025-01-08T16:47:16.886Z"
   },
   {
    "duration": 3,
    "start_time": "2025-01-08T16:47:16.921Z"
   },
   {
    "duration": 5,
    "start_time": "2025-01-08T16:47:16.926Z"
   },
   {
    "duration": 27,
    "start_time": "2025-01-08T16:47:16.933Z"
   },
   {
    "duration": 627,
    "start_time": "2025-01-08T16:47:16.961Z"
   },
   {
    "duration": 268,
    "start_time": "2025-01-08T16:47:17.590Z"
   },
   {
    "duration": 4904,
    "start_time": "2025-01-08T16:47:17.860Z"
   },
   {
    "duration": 4622,
    "start_time": "2025-01-08T16:47:22.766Z"
   },
   {
    "duration": 847,
    "start_time": "2025-01-08T16:47:27.393Z"
   },
   {
    "duration": 2504,
    "start_time": "2025-01-08T16:47:28.243Z"
   },
   {
    "duration": 3,
    "start_time": "2025-01-08T16:47:30.749Z"
   },
   {
    "duration": 522399,
    "start_time": "2025-01-08T16:47:30.754Z"
   },
   {
    "duration": 10,
    "start_time": "2025-01-08T16:56:13.166Z"
   },
   {
    "duration": 3689,
    "start_time": "2025-01-08T16:56:13.188Z"
   },
   {
    "duration": 913,
    "start_time": "2025-01-08T16:56:46.097Z"
   },
   {
    "duration": 7,
    "start_time": "2025-01-08T16:56:47.014Z"
   },
   {
    "duration": 4,
    "start_time": "2025-01-08T16:56:47.023Z"
   },
   {
    "duration": 751,
    "start_time": "2025-01-08T16:56:47.029Z"
   },
   {
    "duration": 90,
    "start_time": "2025-01-08T16:56:47.783Z"
   },
   {
    "duration": 22,
    "start_time": "2025-01-08T16:56:47.875Z"
   },
   {
    "duration": 3180,
    "start_time": "2025-01-08T16:56:47.899Z"
   },
   {
    "duration": 719,
    "start_time": "2025-01-08T16:56:51.082Z"
   },
   {
    "duration": 7,
    "start_time": "2025-01-08T16:56:51.803Z"
   },
   {
    "duration": 441,
    "start_time": "2025-01-08T16:56:51.812Z"
   },
   {
    "duration": 4013,
    "start_time": "2025-01-08T16:56:52.255Z"
   },
   {
    "duration": 162,
    "start_time": "2025-01-08T16:56:56.270Z"
   },
   {
    "duration": 3,
    "start_time": "2025-01-08T16:56:56.433Z"
   },
   {
    "duration": 2789,
    "start_time": "2025-01-08T16:56:56.440Z"
   },
   {
    "duration": 25,
    "start_time": "2025-01-08T16:56:59.231Z"
   },
   {
    "duration": 4,
    "start_time": "2025-01-08T16:56:59.258Z"
   },
   {
    "duration": 24,
    "start_time": "2025-01-08T16:56:59.264Z"
   },
   {
    "duration": 40,
    "start_time": "2025-01-08T16:56:59.290Z"
   },
   {
    "duration": 663,
    "start_time": "2025-01-08T16:56:59.332Z"
   },
   {
    "duration": 316,
    "start_time": "2025-01-08T16:56:59.997Z"
   },
   {
    "duration": 5145,
    "start_time": "2025-01-08T16:57:00.315Z"
   },
   {
    "duration": 4236,
    "start_time": "2025-01-08T16:57:05.462Z"
   },
   {
    "duration": 730,
    "start_time": "2025-01-08T16:57:09.704Z"
   },
   {
    "duration": 2526,
    "start_time": "2025-01-08T16:57:10.436Z"
   },
   {
    "duration": 3,
    "start_time": "2025-01-08T16:57:12.964Z"
   },
   {
    "duration": 1004,
    "start_time": "2025-01-08T16:59:15.819Z"
   },
   {
    "duration": 7,
    "start_time": "2025-01-08T16:59:16.825Z"
   },
   {
    "duration": 3,
    "start_time": "2025-01-08T16:59:16.835Z"
   },
   {
    "duration": 740,
    "start_time": "2025-01-08T16:59:16.841Z"
   },
   {
    "duration": 80,
    "start_time": "2025-01-08T16:59:17.586Z"
   },
   {
    "duration": 23,
    "start_time": "2025-01-08T16:59:17.668Z"
   },
   {
    "duration": 3206,
    "start_time": "2025-01-08T16:59:17.694Z"
   },
   {
    "duration": 732,
    "start_time": "2025-01-08T16:59:20.902Z"
   },
   {
    "duration": 5,
    "start_time": "2025-01-08T16:59:21.636Z"
   },
   {
    "duration": 435,
    "start_time": "2025-01-08T16:59:21.644Z"
   },
   {
    "duration": 3977,
    "start_time": "2025-01-08T16:59:22.087Z"
   },
   {
    "duration": 167,
    "start_time": "2025-01-08T16:59:26.066Z"
   },
   {
    "duration": 3,
    "start_time": "2025-01-08T16:59:26.234Z"
   },
   {
    "duration": 2803,
    "start_time": "2025-01-08T16:59:26.240Z"
   },
   {
    "duration": 25,
    "start_time": "2025-01-08T16:59:29.045Z"
   },
   {
    "duration": 19,
    "start_time": "2025-01-08T16:59:29.072Z"
   },
   {
    "duration": 12,
    "start_time": "2025-01-08T16:59:29.094Z"
   },
   {
    "duration": 35,
    "start_time": "2025-01-08T16:59:29.108Z"
   },
   {
    "duration": 693,
    "start_time": "2025-01-08T16:59:29.146Z"
   },
   {
    "duration": 317,
    "start_time": "2025-01-08T16:59:29.841Z"
   },
   {
    "duration": 5049,
    "start_time": "2025-01-08T16:59:30.160Z"
   },
   {
    "duration": 3413,
    "start_time": "2025-01-08T16:59:35.213Z"
   },
   {
    "duration": 747,
    "start_time": "2025-01-08T16:59:38.631Z"
   },
   {
    "duration": 2692,
    "start_time": "2025-01-08T16:59:39.380Z"
   },
   {
    "duration": 3,
    "start_time": "2025-01-08T16:59:42.074Z"
   },
   {
    "duration": 1009,
    "start_time": "2025-01-08T17:03:01.623Z"
   },
   {
    "duration": 7,
    "start_time": "2025-01-08T17:03:02.635Z"
   },
   {
    "duration": 3,
    "start_time": "2025-01-08T17:03:02.645Z"
   },
   {
    "duration": 723,
    "start_time": "2025-01-08T17:03:02.650Z"
   },
   {
    "duration": 81,
    "start_time": "2025-01-08T17:03:03.386Z"
   },
   {
    "duration": 25,
    "start_time": "2025-01-08T17:03:03.469Z"
   },
   {
    "duration": 3187,
    "start_time": "2025-01-08T17:03:03.496Z"
   },
   {
    "duration": 686,
    "start_time": "2025-01-08T17:03:06.685Z"
   },
   {
    "duration": 15,
    "start_time": "2025-01-08T17:03:07.373Z"
   },
   {
    "duration": 392,
    "start_time": "2025-01-08T17:03:07.389Z"
   },
   {
    "duration": 4104,
    "start_time": "2025-01-08T17:03:07.783Z"
   },
   {
    "duration": 162,
    "start_time": "2025-01-08T17:03:11.889Z"
   },
   {
    "duration": 3,
    "start_time": "2025-01-08T17:03:12.053Z"
   },
   {
    "duration": 2780,
    "start_time": "2025-01-08T17:03:12.060Z"
   },
   {
    "duration": 24,
    "start_time": "2025-01-08T17:03:14.842Z"
   },
   {
    "duration": 4,
    "start_time": "2025-01-08T17:03:14.868Z"
   },
   {
    "duration": 19,
    "start_time": "2025-01-08T17:03:14.873Z"
   },
   {
    "duration": 40,
    "start_time": "2025-01-08T17:03:14.895Z"
   },
   {
    "duration": 644,
    "start_time": "2025-01-08T17:03:14.937Z"
   },
   {
    "duration": 305,
    "start_time": "2025-01-08T17:03:15.583Z"
   },
   {
    "duration": 5079,
    "start_time": "2025-01-08T17:03:15.891Z"
   },
   {
    "duration": 2763,
    "start_time": "2025-01-08T17:03:20.972Z"
   },
   {
    "duration": 831,
    "start_time": "2025-01-08T17:03:23.743Z"
   },
   {
    "duration": 2676,
    "start_time": "2025-01-08T17:03:24.576Z"
   },
   {
    "duration": 4,
    "start_time": "2025-01-08T17:03:27.253Z"
   },
   {
    "duration": 2550,
    "start_time": "2025-01-09T17:38:51.470Z"
   },
   {
    "duration": 6,
    "start_time": "2025-01-09T17:38:54.022Z"
   },
   {
    "duration": 3,
    "start_time": "2025-01-09T17:38:54.030Z"
   },
   {
    "duration": 698,
    "start_time": "2025-01-09T17:38:54.514Z"
   },
   {
    "duration": 65,
    "start_time": "2025-01-09T17:38:55.215Z"
   },
   {
    "duration": 13,
    "start_time": "2025-01-09T17:38:55.838Z"
   },
   {
    "duration": 2796,
    "start_time": "2025-01-09T17:38:57.660Z"
   },
   {
    "duration": 678,
    "start_time": "2025-01-09T17:39:00.458Z"
   },
   {
    "duration": 782,
    "start_time": "2025-01-09T18:07:20.026Z"
   },
   {
    "duration": 6,
    "start_time": "2025-01-09T18:07:20.811Z"
   },
   {
    "duration": 3,
    "start_time": "2025-01-09T18:07:20.819Z"
   },
   {
    "duration": 603,
    "start_time": "2025-01-09T18:07:20.823Z"
   },
   {
    "duration": 58,
    "start_time": "2025-01-09T18:07:21.430Z"
   },
   {
    "duration": 25,
    "start_time": "2025-01-09T18:07:21.490Z"
   },
   {
    "duration": 2832,
    "start_time": "2025-01-09T18:07:21.516Z"
   },
   {
    "duration": 678,
    "start_time": "2025-01-09T18:07:24.350Z"
   },
   {
    "duration": 5,
    "start_time": "2025-01-09T18:07:25.030Z"
   },
   {
    "duration": 377,
    "start_time": "2025-01-09T18:07:25.037Z"
   },
   {
    "duration": 3632,
    "start_time": "2025-01-09T18:07:25.416Z"
   },
   {
    "duration": 139,
    "start_time": "2025-01-09T18:07:29.049Z"
   },
   {
    "duration": 3,
    "start_time": "2025-01-09T18:07:29.190Z"
   },
   {
    "duration": 2339,
    "start_time": "2025-01-09T18:07:29.197Z"
   },
   {
    "duration": 19,
    "start_time": "2025-01-09T18:07:31.538Z"
   },
   {
    "duration": 4,
    "start_time": "2025-01-09T18:07:31.558Z"
   },
   {
    "duration": 4,
    "start_time": "2025-01-09T18:07:31.564Z"
   },
   {
    "duration": 50,
    "start_time": "2025-01-09T18:07:31.570Z"
   },
   {
    "duration": 539,
    "start_time": "2025-01-09T18:07:31.622Z"
   },
   {
    "duration": 234,
    "start_time": "2025-01-09T18:07:32.163Z"
   },
   {
    "duration": 4030,
    "start_time": "2025-01-09T18:07:32.398Z"
   },
   {
    "duration": 2887,
    "start_time": "2025-01-09T18:07:36.430Z"
   },
   {
    "duration": 675,
    "start_time": "2025-01-09T18:07:39.319Z"
   },
   {
    "duration": 2224,
    "start_time": "2025-01-09T18:07:39.996Z"
   },
   {
    "duration": 3,
    "start_time": "2025-01-09T18:07:42.223Z"
   },
   {
    "duration": 422348,
    "start_time": "2025-01-09T18:07:42.227Z"
   },
   {
    "duration": 6,
    "start_time": "2025-01-09T18:14:44.577Z"
   },
   {
    "duration": 6,
    "start_time": "2025-01-09T18:14:44.584Z"
   },
   {
    "duration": 4425,
    "start_time": "2025-01-09T18:14:44.592Z"
   },
   {
    "duration": 687,
    "start_time": "2025-01-09T18:14:49.019Z"
   },
   {
    "duration": 0,
    "start_time": "2025-01-09T18:14:49.711Z"
   },
   {
    "duration": 0,
    "start_time": "2025-01-09T18:14:49.713Z"
   },
   {
    "duration": 0,
    "start_time": "2025-01-09T18:14:49.714Z"
   },
   {
    "duration": 0,
    "start_time": "2025-01-09T18:14:49.716Z"
   },
   {
    "duration": 0,
    "start_time": "2025-01-09T18:14:49.717Z"
   },
   {
    "duration": 0,
    "start_time": "2025-01-09T18:14:49.719Z"
   },
   {
    "duration": 0,
    "start_time": "2025-01-09T18:14:49.720Z"
   },
   {
    "duration": 0,
    "start_time": "2025-01-09T18:14:49.721Z"
   },
   {
    "duration": 0,
    "start_time": "2025-01-09T18:14:49.722Z"
   },
   {
    "duration": 0,
    "start_time": "2025-01-09T18:14:49.723Z"
   },
   {
    "duration": 0,
    "start_time": "2025-01-09T18:14:49.724Z"
   },
   {
    "duration": 0,
    "start_time": "2025-01-09T18:14:49.725Z"
   },
   {
    "duration": 0,
    "start_time": "2025-01-09T18:14:49.726Z"
   },
   {
    "duration": 0,
    "start_time": "2025-01-09T18:14:49.727Z"
   },
   {
    "duration": 0,
    "start_time": "2025-01-09T18:14:49.728Z"
   },
   {
    "duration": 0,
    "start_time": "2025-01-09T18:14:49.729Z"
   },
   {
    "duration": 6079,
    "start_time": "2025-01-09T18:50:19.157Z"
   },
   {
    "duration": 590,
    "start_time": "2025-01-09T18:50:28.341Z"
   },
   {
    "duration": 26,
    "start_time": "2025-01-09T18:50:46.830Z"
   },
   {
    "duration": 31211,
    "start_time": "2025-01-09T18:50:47.739Z"
   },
   {
    "duration": 1312,
    "start_time": "2025-01-09T18:51:55.501Z"
   },
   {
    "duration": 151,
    "start_time": "2025-01-09T18:52:07.494Z"
   },
   {
    "duration": 1496,
    "start_time": "2025-01-09T18:52:08.318Z"
   },
   {
    "duration": 7,
    "start_time": "2025-01-09T18:52:11.682Z"
   },
   {
    "duration": 6,
    "start_time": "2025-01-09T18:52:20.196Z"
   },
   {
    "duration": 3,
    "start_time": "2025-01-09T18:52:38.244Z"
   },
   {
    "duration": 819,
    "start_time": "2025-01-09T18:54:59.478Z"
   },
   {
    "duration": 13,
    "start_time": "2025-01-09T18:55:00.299Z"
   },
   {
    "duration": 3,
    "start_time": "2025-01-09T18:55:00.314Z"
   },
   {
    "duration": 657,
    "start_time": "2025-01-09T18:55:00.319Z"
   },
   {
    "duration": 68,
    "start_time": "2025-01-09T18:55:00.978Z"
   },
   {
    "duration": 13,
    "start_time": "2025-01-09T18:55:01.048Z"
   },
   {
    "duration": 2770,
    "start_time": "2025-01-09T18:55:01.062Z"
   },
   {
    "duration": 630,
    "start_time": "2025-01-09T18:55:03.835Z"
   },
   {
    "duration": 5,
    "start_time": "2025-01-09T18:55:04.467Z"
   },
   {
    "duration": 396,
    "start_time": "2025-01-09T18:55:04.475Z"
   },
   {
    "duration": 3607,
    "start_time": "2025-01-09T18:55:04.873Z"
   },
   {
    "duration": 141,
    "start_time": "2025-01-09T18:55:08.482Z"
   },
   {
    "duration": 3,
    "start_time": "2025-01-09T18:55:08.625Z"
   },
   {
    "duration": 2358,
    "start_time": "2025-01-09T18:55:08.630Z"
   },
   {
    "duration": 28,
    "start_time": "2025-01-09T18:55:10.990Z"
   },
   {
    "duration": 4,
    "start_time": "2025-01-09T18:55:11.020Z"
   },
   {
    "duration": 5,
    "start_time": "2025-01-09T18:55:11.025Z"
   },
   {
    "duration": 26,
    "start_time": "2025-01-09T18:55:11.031Z"
   },
   {
    "duration": 540,
    "start_time": "2025-01-09T18:55:11.059Z"
   },
   {
    "duration": 236,
    "start_time": "2025-01-09T18:55:11.600Z"
   },
   {
    "duration": 4046,
    "start_time": "2025-01-09T18:55:11.838Z"
   },
   {
    "duration": 3042,
    "start_time": "2025-01-09T18:55:15.886Z"
   },
   {
    "duration": 663,
    "start_time": "2025-01-09T18:55:18.933Z"
   },
   {
    "duration": 2194,
    "start_time": "2025-01-09T18:55:19.598Z"
   },
   {
    "duration": 3,
    "start_time": "2025-01-09T18:55:21.794Z"
   },
   {
    "duration": 423568,
    "start_time": "2025-01-09T18:55:21.798Z"
   },
   {
    "duration": 6,
    "start_time": "2025-01-09T19:02:25.368Z"
   },
   {
    "duration": 5,
    "start_time": "2025-01-09T19:02:25.378Z"
   },
   {
    "duration": 4384,
    "start_time": "2025-01-09T19:02:25.384Z"
   },
   {
    "duration": 6257,
    "start_time": "2025-01-09T19:02:29.769Z"
   },
   {
    "duration": 694,
    "start_time": "2025-01-09T19:02:36.028Z"
   },
   {
    "duration": 26,
    "start_time": "2025-01-09T19:02:36.724Z"
   },
   {
    "duration": 30767,
    "start_time": "2025-01-09T19:02:36.752Z"
   },
   {
    "duration": 1335,
    "start_time": "2025-01-09T19:03:07.520Z"
   },
   {
    "duration": 143,
    "start_time": "2025-01-09T19:03:08.857Z"
   },
   {
    "duration": 1572,
    "start_time": "2025-01-09T19:03:09.002Z"
   },
   {
    "duration": 6,
    "start_time": "2025-01-09T19:03:10.576Z"
   },
   {
    "duration": 5,
    "start_time": "2025-01-09T19:03:10.583Z"
   },
   {
    "duration": 820,
    "start_time": "2025-01-09T19:18:57.854Z"
   },
   {
    "duration": 6,
    "start_time": "2025-01-09T19:18:58.676Z"
   },
   {
    "duration": 3,
    "start_time": "2025-01-09T19:18:58.684Z"
   },
   {
    "duration": 610,
    "start_time": "2025-01-09T19:18:58.689Z"
   },
   {
    "duration": 65,
    "start_time": "2025-01-09T19:18:59.301Z"
   },
   {
    "duration": 13,
    "start_time": "2025-01-09T19:18:59.367Z"
   },
   {
    "duration": 2761,
    "start_time": "2025-01-09T19:18:59.595Z"
   },
   {
    "duration": 655,
    "start_time": "2025-01-09T19:19:02.358Z"
   },
   {
    "duration": 5,
    "start_time": "2025-01-09T19:19:03.015Z"
   },
   {
    "duration": 379,
    "start_time": "2025-01-09T19:19:03.022Z"
   },
   {
    "duration": 3623,
    "start_time": "2025-01-09T19:19:03.403Z"
   },
   {
    "duration": 133,
    "start_time": "2025-01-09T19:19:07.028Z"
   },
   {
    "duration": 3,
    "start_time": "2025-01-09T19:19:07.164Z"
   },
   {
    "duration": 2376,
    "start_time": "2025-01-09T19:19:07.169Z"
   },
   {
    "duration": 19,
    "start_time": "2025-01-09T19:19:09.548Z"
   },
   {
    "duration": 4,
    "start_time": "2025-01-09T19:19:09.569Z"
   },
   {
    "duration": 5,
    "start_time": "2025-01-09T19:19:09.575Z"
   },
   {
    "duration": 47,
    "start_time": "2025-01-09T19:19:09.581Z"
   },
   {
    "duration": 541,
    "start_time": "2025-01-09T19:19:09.631Z"
   },
   {
    "duration": 229,
    "start_time": "2025-01-09T19:19:10.175Z"
   },
   {
    "duration": 3989,
    "start_time": "2025-01-09T19:19:10.406Z"
   },
   {
    "duration": 2332,
    "start_time": "2025-01-09T19:19:14.396Z"
   },
   {
    "duration": 701,
    "start_time": "2025-01-09T19:19:16.732Z"
   },
   {
    "duration": 2108,
    "start_time": "2025-01-09T19:19:17.436Z"
   },
   {
    "duration": 3,
    "start_time": "2025-01-09T19:19:19.546Z"
   },
   {
    "duration": 2550,
    "start_time": "2025-01-09T19:58:02.374Z"
   },
   {
    "duration": 6,
    "start_time": "2025-01-09T19:58:04.926Z"
   },
   {
    "duration": 4,
    "start_time": "2025-01-09T19:58:04.933Z"
   },
   {
    "duration": 653,
    "start_time": "2025-01-09T19:58:04.939Z"
   },
   {
    "duration": 68,
    "start_time": "2025-01-09T19:58:05.594Z"
   },
   {
    "duration": 13,
    "start_time": "2025-01-09T19:58:05.664Z"
   },
   {
    "duration": 2900,
    "start_time": "2025-01-09T19:58:06.001Z"
   },
   {
    "duration": 641,
    "start_time": "2025-01-09T19:58:08.903Z"
   },
   {
    "duration": 7,
    "start_time": "2025-01-09T19:58:09.545Z"
   },
   {
    "duration": 346,
    "start_time": "2025-01-09T19:58:09.554Z"
   },
   {
    "duration": 3605,
    "start_time": "2025-01-09T19:58:09.902Z"
   },
   {
    "duration": 233,
    "start_time": "2025-01-09T19:58:13.509Z"
   },
   {
    "duration": 4,
    "start_time": "2025-01-09T19:58:13.744Z"
   },
   {
    "duration": 2370,
    "start_time": "2025-01-09T19:58:13.749Z"
   },
   {
    "duration": 20,
    "start_time": "2025-01-09T19:58:16.121Z"
   },
   {
    "duration": 3,
    "start_time": "2025-01-09T19:58:19.188Z"
   },
   {
    "duration": 6,
    "start_time": "2025-01-09T19:58:19.391Z"
   },
   {
    "duration": 26,
    "start_time": "2025-01-09T19:58:19.557Z"
   },
   {
    "duration": 525,
    "start_time": "2025-01-09T19:58:19.755Z"
   },
   {
    "duration": 138,
    "start_time": "2025-01-09T19:58:21.153Z"
   },
   {
    "duration": 4104,
    "start_time": "2025-01-09T19:58:21.712Z"
   },
   {
    "duration": 3529,
    "start_time": "2025-01-09T19:58:27.406Z"
   },
   {
    "duration": 645,
    "start_time": "2025-01-09T19:58:30.940Z"
   },
   {
    "duration": 2181,
    "start_time": "2025-01-09T19:58:36.028Z"
   },
   {
    "duration": 3,
    "start_time": "2025-01-09T19:58:39.451Z"
   },
   {
    "duration": 2507,
    "start_time": "2025-01-10T14:27:30.494Z"
   },
   {
    "duration": 7,
    "start_time": "2025-01-10T14:27:34.950Z"
   },
   {
    "duration": 2,
    "start_time": "2025-01-10T14:27:35.385Z"
   },
   {
    "duration": 650,
    "start_time": "2025-01-10T14:27:36.312Z"
   },
   {
    "duration": 68,
    "start_time": "2025-01-10T14:27:36.964Z"
   },
   {
    "duration": 13,
    "start_time": "2025-01-10T14:27:37.600Z"
   },
   {
    "duration": 2807,
    "start_time": "2025-01-10T14:27:39.489Z"
   },
   {
    "duration": 651,
    "start_time": "2025-01-10T14:27:42.299Z"
   },
   {
    "duration": 6,
    "start_time": "2025-01-10T14:27:42.952Z"
   },
   {
    "duration": 329,
    "start_time": "2025-01-10T14:27:43.277Z"
   },
   {
    "duration": 3606,
    "start_time": "2025-01-10T14:27:45.355Z"
   },
   {
    "duration": 225,
    "start_time": "2025-01-10T14:28:06.826Z"
   },
   {
    "duration": 3,
    "start_time": "2025-01-10T14:28:09.699Z"
   },
   {
    "duration": 2366,
    "start_time": "2025-01-10T14:28:11.383Z"
   },
   {
    "duration": 24,
    "start_time": "2025-01-10T14:28:17.886Z"
   },
   {
    "duration": 5,
    "start_time": "2025-01-10T14:28:20.804Z"
   },
   {
    "duration": 5,
    "start_time": "2025-01-10T14:28:21.847Z"
   },
   {
    "duration": 28,
    "start_time": "2025-01-10T14:28:22.766Z"
   },
   {
    "duration": 540,
    "start_time": "2025-01-10T14:28:23.744Z"
   },
   {
    "duration": 143,
    "start_time": "2025-01-10T14:28:26.866Z"
   },
   {
    "duration": 4224,
    "start_time": "2025-01-10T14:28:27.786Z"
   },
   {
    "duration": 3614,
    "start_time": "2025-01-10T14:28:38.012Z"
   },
   {
    "duration": 667,
    "start_time": "2025-01-10T14:28:41.628Z"
   },
   {
    "duration": 2495,
    "start_time": "2025-01-10T14:28:42.298Z"
   },
   {
    "duration": 3,
    "start_time": "2025-01-10T14:28:44.796Z"
   },
   {
    "duration": 430225,
    "start_time": "2025-01-10T14:28:44.800Z"
   },
   {
    "duration": 6,
    "start_time": "2025-01-10T14:36:14.976Z"
   },
   {
    "duration": 5,
    "start_time": "2025-01-10T14:36:15.891Z"
   },
   {
    "duration": 4354,
    "start_time": "2025-01-10T14:36:18.166Z"
   },
   {
    "duration": 6980,
    "start_time": "2025-01-10T14:36:28.556Z"
   },
   {
    "duration": 610,
    "start_time": "2025-01-10T14:36:38.971Z"
   },
   {
    "duration": 26,
    "start_time": "2025-01-10T14:36:43.210Z"
   },
   {
    "duration": 30843,
    "start_time": "2025-01-10T14:36:44.211Z"
   },
   {
    "duration": 1291,
    "start_time": "2025-01-10T14:37:31.391Z"
   },
   {
    "duration": 8,
    "start_time": "2025-01-10T14:38:24.114Z"
   },
   {
    "duration": 28,
    "start_time": "2025-01-10T14:38:32.447Z"
   },
   {
    "duration": 707,
    "start_time": "2025-01-10T14:38:48.701Z"
   },
   {
    "duration": 20,
    "start_time": "2025-01-10T14:39:25.196Z"
   },
   {
    "duration": 6,
    "start_time": "2025-01-10T14:39:31.636Z"
   },
   {
    "duration": 24,
    "start_time": "2025-01-10T14:40:06.752Z"
   },
   {
    "duration": 25,
    "start_time": "2025-01-10T14:40:17.705Z"
   },
   {
    "duration": 148,
    "start_time": "2025-01-10T14:40:29.210Z"
   },
   {
    "duration": 1686,
    "start_time": "2025-01-10T14:40:30.589Z"
   },
   {
    "duration": 6,
    "start_time": "2025-01-10T14:40:36.895Z"
   },
   {
    "duration": 3,
    "start_time": "2025-01-10T14:40:42.488Z"
   },
   {
    "duration": 880,
    "start_time": "2025-01-10T14:45:01.153Z"
   },
   {
    "duration": 7,
    "start_time": "2025-01-10T14:45:02.035Z"
   },
   {
    "duration": 3,
    "start_time": "2025-01-10T14:45:02.044Z"
   },
   {
    "duration": 696,
    "start_time": "2025-01-10T14:45:02.449Z"
   },
   {
    "duration": 60,
    "start_time": "2025-01-10T14:45:03.147Z"
   },
   {
    "duration": 14,
    "start_time": "2025-01-10T14:45:03.479Z"
   },
   {
    "duration": 2764,
    "start_time": "2025-01-10T14:45:03.900Z"
   },
   {
    "duration": 670,
    "start_time": "2025-01-10T14:45:06.666Z"
   },
   {
    "duration": 5,
    "start_time": "2025-01-10T14:45:07.338Z"
   },
   {
    "duration": 379,
    "start_time": "2025-01-10T14:45:07.345Z"
   },
   {
    "duration": 3604,
    "start_time": "2025-01-10T14:45:07.725Z"
   },
   {
    "duration": 149,
    "start_time": "2025-01-10T14:45:11.332Z"
   },
   {
    "duration": 3,
    "start_time": "2025-01-10T14:45:11.483Z"
   },
   {
    "duration": 2340,
    "start_time": "2025-01-10T14:45:11.487Z"
   },
   {
    "duration": 20,
    "start_time": "2025-01-10T14:45:14.851Z"
   },
   {
    "duration": 5,
    "start_time": "2025-01-10T14:45:16.688Z"
   },
   {
    "duration": 6,
    "start_time": "2025-01-10T14:45:17.079Z"
   },
   {
    "duration": 27,
    "start_time": "2025-01-10T14:45:18.377Z"
   },
   {
    "duration": 533,
    "start_time": "2025-01-10T14:45:19.042Z"
   },
   {
    "duration": 239,
    "start_time": "2025-01-10T14:45:20.526Z"
   },
   {
    "duration": 4030,
    "start_time": "2025-01-10T14:45:20.994Z"
   },
   {
    "duration": 4107,
    "start_time": "2025-01-10T14:45:25.026Z"
   },
   {
    "duration": 654,
    "start_time": "2025-01-10T14:45:29.135Z"
   },
   {
    "duration": 2200,
    "start_time": "2025-01-10T14:45:29.792Z"
   },
   {
    "duration": 869,
    "start_time": "2025-01-10T14:45:40.739Z"
   },
   {
    "duration": 3,
    "start_time": "2025-01-10T14:45:46.238Z"
   },
   {
    "duration": 428522,
    "start_time": "2025-01-10T14:45:46.786Z"
   },
   {
    "duration": 5,
    "start_time": "2025-01-10T14:54:28.371Z"
   },
   {
    "duration": 6,
    "start_time": "2025-01-10T14:54:29.098Z"
   },
   {
    "duration": 4630,
    "start_time": "2025-01-10T14:54:29.775Z"
   },
   {
    "duration": 7520,
    "start_time": "2025-01-10T14:54:34.410Z"
   },
   {
    "duration": 683,
    "start_time": "2025-01-10T14:54:41.933Z"
   },
   {
    "duration": 26,
    "start_time": "2025-01-10T14:55:56.281Z"
   },
   {
    "duration": 31384,
    "start_time": "2025-01-10T14:55:57.677Z"
   },
   {
    "duration": 1454,
    "start_time": "2025-01-10T14:56:29.063Z"
   },
   {
    "duration": 23,
    "start_time": "2025-01-10T14:56:30.525Z"
   },
   {
    "duration": 142,
    "start_time": "2025-01-10T14:56:39.212Z"
   },
   {
    "duration": 1828,
    "start_time": "2025-01-10T14:56:40.089Z"
   },
   {
    "duration": 6,
    "start_time": "2025-01-10T14:57:59.234Z"
   },
   {
    "duration": 3,
    "start_time": "2025-01-10T14:58:03.355Z"
   },
   {
    "duration": 28,
    "start_time": "2025-01-10T14:58:07.326Z"
   },
   {
    "duration": 6,
    "start_time": "2025-01-10T14:58:11.192Z"
   },
   {
    "duration": 22,
    "start_time": "2025-01-10T14:58:13.608Z"
   },
   {
    "duration": 23,
    "start_time": "2025-01-10T14:58:15.690Z"
   }
  ],
  "kernelspec": {
   "display_name": "Python 3 (ipykernel)",
   "language": "python",
   "name": "python3"
  },
  "language_info": {
   "codemirror_mode": {
    "name": "ipython",
    "version": 3
   },
   "file_extension": ".py",
   "mimetype": "text/x-python",
   "name": "python",
   "nbconvert_exporter": "python",
   "pygments_lexer": "ipython3",
   "version": "3.9.19"
  },
  "toc": {
   "base_numbering": 1,
   "nav_menu": {},
   "number_sections": true,
   "sideBar": true,
   "skip_h1_title": true,
   "title_cell": "Table of Contents",
   "title_sidebar": "Contents",
   "toc_cell": false,
   "toc_position": {},
   "toc_section_display": true,
   "toc_window_display": false
  },
  "vscode": {
   "interpreter": {
    "hash": "ac629f305345b17df6668bc9b17021b4f12075c260532782c34ed55a489bc20f"
   }
  }
 },
 "nbformat": 4,
 "nbformat_minor": 4
}
